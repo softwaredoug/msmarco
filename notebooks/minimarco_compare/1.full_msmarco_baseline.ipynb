{
 "cells": [
  {
   "cell_type": "code",
   "execution_count": 38,
   "id": "41e67f26-1791-4d6a-891f-d80f1e0b4232",
   "metadata": {},
   "outputs": [],
   "source": [
    "import numpy as np\n",
    "import pandas as pd\n",
    "from msmarco.index import indexed\n",
    "from msmarco.evaluate import grade_results, judge_queries\n",
    "from time import perf_counter\n",
    "from searcharray.similarity import bm25_similarity, classic_similarity, default_bm25\n",
    "\n",
    "msmarco_mrr10 = [0] * 8\n",
    "NUM_QUERIES = 1000"
   ]
  },
  {
   "cell_type": "code",
   "execution_count": 2,
   "id": "c162ee1d-c68f-4268-a518-17cd416cf2b5",
   "metadata": {},
   "outputs": [],
   "source": [
    "# Will take a min or two to load, and a good hour to build an index first time\n",
    "msmarco = indexed()"
   ]
  },
  {
   "cell_type": "code",
   "execution_count": 40,
   "id": "04b391cb-212c-47b2-949d-67f03a699cb9",
   "metadata": {},
   "outputs": [
    {
     "data": {
      "text/html": [
       "<div>\n",
       "<style scoped>\n",
       "    .dataframe tbody tr th:only-of-type {\n",
       "        vertical-align: middle;\n",
       "    }\n",
       "\n",
       "    .dataframe tbody tr th {\n",
       "        vertical-align: top;\n",
       "    }\n",
       "\n",
       "    .dataframe thead th {\n",
       "        text-align: right;\n",
       "    }\n",
       "</style>\n",
       "<table border=\"1\" class=\"dataframe\">\n",
       "  <thead>\n",
       "    <tr style=\"text-align: right;\">\n",
       "      <th></th>\n",
       "      <th>title</th>\n",
       "      <th>msmarco_id</th>\n",
       "      <th>scores</th>\n",
       "      <th>query</th>\n",
       "      <th>query_id</th>\n",
       "      <th>took</th>\n",
       "      <th>rank</th>\n",
       "    </tr>\n",
       "  </thead>\n",
       "  <tbody>\n",
       "    <tr>\n",
       "      <th>1622353</th>\n",
       "      <td>Cheese &amp; Cheese Products: Cheese</td>\n",
       "      <td>D2146882</td>\n",
       "      <td>5.249580</td>\n",
       "      <td>cheese inside</td>\n",
       "      <td>None</td>\n",
       "      <td>0.046699</td>\n",
       "      <td>1</td>\n",
       "    </tr>\n",
       "    <tr>\n",
       "      <th>1409917</th>\n",
       "      <td>Inside</td>\n",
       "      <td>D3479997</td>\n",
       "      <td>4.808581</td>\n",
       "      <td>cheese inside</td>\n",
       "      <td>None</td>\n",
       "      <td>0.046699</td>\n",
       "      <td>2</td>\n",
       "    </tr>\n",
       "    <tr>\n",
       "      <th>171414</th>\n",
       "      <td>Insider</td>\n",
       "      <td>D932824</td>\n",
       "      <td>4.808581</td>\n",
       "      <td>cheese inside</td>\n",
       "      <td>None</td>\n",
       "      <td>0.046699</td>\n",
       "      <td>3</td>\n",
       "    </tr>\n",
       "    <tr>\n",
       "      <th>3021605</th>\n",
       "      <td>inside</td>\n",
       "      <td>D1820840</td>\n",
       "      <td>4.808581</td>\n",
       "      <td>cheese inside</td>\n",
       "      <td>None</td>\n",
       "      <td>0.046699</td>\n",
       "      <td>4</td>\n",
       "    </tr>\n",
       "    <tr>\n",
       "      <th>940283</th>\n",
       "      <td>inside</td>\n",
       "      <td>D1820838</td>\n",
       "      <td>4.808581</td>\n",
       "      <td>cheese inside</td>\n",
       "      <td>None</td>\n",
       "      <td>0.046699</td>\n",
       "      <td>5</td>\n",
       "    </tr>\n",
       "    <tr>\n",
       "      <th>3087670</th>\n",
       "      <td>Cheeses</td>\n",
       "      <td>D1534465</td>\n",
       "      <td>4.733851</td>\n",
       "      <td>cheese inside</td>\n",
       "      <td>None</td>\n",
       "      <td>0.046699</td>\n",
       "      <td>6</td>\n",
       "    </tr>\n",
       "    <tr>\n",
       "      <th>1741404</th>\n",
       "      <td>cheese</td>\n",
       "      <td>D1303785</td>\n",
       "      <td>4.733851</td>\n",
       "      <td>cheese inside</td>\n",
       "      <td>None</td>\n",
       "      <td>0.046699</td>\n",
       "      <td>7</td>\n",
       "    </tr>\n",
       "    <tr>\n",
       "      <th>634958</th>\n",
       "      <td>cheese</td>\n",
       "      <td>D2695337</td>\n",
       "      <td>4.733851</td>\n",
       "      <td>cheese inside</td>\n",
       "      <td>None</td>\n",
       "      <td>0.046699</td>\n",
       "      <td>8</td>\n",
       "    </tr>\n",
       "    <tr>\n",
       "      <th>1884790</th>\n",
       "      <td>Cheese</td>\n",
       "      <td>D187458</td>\n",
       "      <td>4.733851</td>\n",
       "      <td>cheese inside</td>\n",
       "      <td>None</td>\n",
       "      <td>0.046699</td>\n",
       "      <td>9</td>\n",
       "    </tr>\n",
       "    <tr>\n",
       "      <th>1386241</th>\n",
       "      <td>Cheese</td>\n",
       "      <td>D859447</td>\n",
       "      <td>4.733851</td>\n",
       "      <td>cheese inside</td>\n",
       "      <td>None</td>\n",
       "      <td>0.046699</td>\n",
       "      <td>10</td>\n",
       "    </tr>\n",
       "  </tbody>\n",
       "</table>\n",
       "</div>"
      ],
      "text/plain": [
       "                                    title msmarco_id    scores          query  \\\n",
       "1622353  Cheese & Cheese Products: Cheese   D2146882  5.249580  cheese inside   \n",
       "1409917                            Inside   D3479997  4.808581  cheese inside   \n",
       "171414                            Insider    D932824  4.808581  cheese inside   \n",
       "3021605                            inside   D1820840  4.808581  cheese inside   \n",
       "940283                             inside   D1820838  4.808581  cheese inside   \n",
       "3087670                           Cheeses   D1534465  4.733851  cheese inside   \n",
       "1741404                            cheese   D1303785  4.733851  cheese inside   \n",
       "634958                             cheese   D2695337  4.733851  cheese inside   \n",
       "1884790                            Cheese    D187458  4.733851  cheese inside   \n",
       "1386241                            Cheese    D859447  4.733851  cheese inside   \n",
       "\n",
       "        query_id      took  rank  \n",
       "1622353     None  0.046699     1  \n",
       "1409917     None  0.046699     2  \n",
       "171414      None  0.046699     3  \n",
       "3021605     None  0.046699     4  \n",
       "940283      None  0.046699     5  \n",
       "3087670     None  0.046699     6  \n",
       "1741404     None  0.046699     7  \n",
       "634958      None  0.046699     8  \n",
       "1884790     None  0.046699     9  \n",
       "1386241     None  0.046699    10  "
      ]
     },
     "execution_count": 40,
     "metadata": {},
     "output_type": "execute_result"
    }
   ],
   "source": [
    "def or_query_search(corpus, fields, query, query_id=None, n=10, \n",
    "                    similarities=default_bm25):\n",
    "    if not isinstance(fields, list):\n",
    "        fields = [fields]\n",
    "    if isinstance(similarities, list):\n",
    "        assert len(similarities) == len(fields)\n",
    "    if not isinstance(similarities, list):\n",
    "        similarities = [similarities] * len(fields)\n",
    "    start = perf_counter()\n",
    "    scored = np.zeros(len(corpus))\n",
    "    for field, similarity in zip(fields, similarities):\n",
    "        boost = 1.0\n",
    "        if '^' in field:\n",
    "            field, boost = field.split('^')\n",
    "            boost = float(boost)\n",
    "        tokenizer = corpus[field].array.tokenizer\n",
    "        tokens = tokenizer(query)\n",
    "        scored += (np.sum([corpus[field].array.score(token, similarity=similarity) for token in tokens], axis=0) * boost)\n",
    "    took = perf_counter() - start\n",
    "    \n",
    "    top_n_idx = np.argsort(scored)[::-1][:n]\n",
    "    scores = scored[top_n_idx]\n",
    "    top_n_idx, scores\n",
    "\n",
    "    top_n = corpus[['title', 'msmarco_id']].iloc[top_n_idx]\n",
    "    top_n['scores'] = scores\n",
    "    top_n['query'] = query\n",
    "    top_n['query_id'] = query_id\n",
    "    top_n['took'] = took\n",
    "    top_n['rank'] = np.arange(n) + 1\n",
    "    return top_n\n",
    "\n",
    "or_query_search(corpus=msmarco, fields=\"title_idx\", query=\"cheese inside\")"
   ]
  },
  {
   "cell_type": "code",
   "execution_count": 41,
   "id": "71fba45a-b565-454b-b4df-8a381e7b8dae",
   "metadata": {},
   "outputs": [],
   "source": [
    "from msmarco.evaluate import grade_results, judgments\n",
    "\n",
    "msmarco_judgments = judgments().sample(NUM_QUERIES)"
   ]
  },
  {
   "cell_type": "code",
   "execution_count": 42,
   "id": "214e322a-4ce3-4429-9d32-1f2635db952c",
   "metadata": {},
   "outputs": [],
   "source": [
    "\n",
    "def run_all(corpus, judgments, fields, similarities=default_bm25, n=10):\n",
    "    results = []\n",
    "    for idx, row in judgments.iterrows():\n",
    "        top_n = or_query_search(corpus=msmarco, fields=fields, similarities=similarities, n=n,\n",
    "                                query=row['query'], query_id=row['query_id'])\n",
    "        results.append(top_n)\n",
    "    results = pd.concat(results)\n",
    "    graded = grade_results(msmarco_judgments, results)\n",
    "    return graded"
   ]
  },
  {
   "cell_type": "markdown",
   "id": "2ec9a100-cacd-4aed-845b-264e2eb698fe",
   "metadata": {},
   "source": [
    "## Search title\n",
    "\n",
    "Search a snowball tokenized version of title, using BM25, report MRR"
   ]
  },
  {
   "cell_type": "code",
   "execution_count": 43,
   "id": "f9ec979d-677e-43dc-95fd-93615c18c661",
   "metadata": {},
   "outputs": [
    {
     "data": {
      "text/plain": [
       "0.178518253968254"
      ]
     },
     "execution_count": 43,
     "metadata": {},
     "output_type": "execute_result"
    }
   ],
   "source": [
    "graded = run_all(msmarco, msmarco_judgments,\n",
    "                  fields=['title_idx'])\n",
    "\n",
    "queries_judged = judge_queries(graded)\n",
    "msmarco_mrr10[0] = queries_judged.sum() / NUM_QUERIES\n",
    "msmarco_mrr10[0]"
   ]
  },
  {
   "cell_type": "markdown",
   "id": "3df75926-39cf-40fb-b0c5-5631c4f9cd63",
   "metadata": {},
   "source": [
    "## Search body\n",
    "\n",
    "Search a snowball tokenized version of body, using BM25, report MRR"
   ]
  },
  {
   "cell_type": "code",
   "execution_count": 44,
   "id": "ef1cd52f-f250-4e55-a2df-64028602659b",
   "metadata": {},
   "outputs": [
    {
     "data": {
      "text/plain": [
       "0.21866785714285714"
      ]
     },
     "execution_count": 44,
     "metadata": {},
     "output_type": "execute_result"
    }
   ],
   "source": [
    "graded = run_all(msmarco, msmarco_judgments,\n",
    "                  fields=['body_idx'])\n",
    "\n",
    "queries_judged = judge_queries(graded)\n",
    "msmarco_mrr10[1] = queries_judged.sum() / NUM_QUERIES\n",
    "msmarco_mrr10[1]"
   ]
  },
  {
   "cell_type": "markdown",
   "id": "4376584e-9613-4a97-92ec-03acba427688",
   "metadata": {},
   "source": [
    "## Search body + title"
   ]
  },
  {
   "cell_type": "code",
   "execution_count": 45,
   "id": "6a1fe5b1-3291-443b-bc09-abe455d66571",
   "metadata": {},
   "outputs": [
    {
     "data": {
      "text/plain": [
       "0.2427626984126984"
      ]
     },
     "execution_count": 45,
     "metadata": {},
     "output_type": "execute_result"
    }
   ],
   "source": [
    "graded = run_all(msmarco, msmarco_judgments,\n",
    "                  fields=['title_idx', 'body_idx'])\n",
    "\n",
    "queries_judged = judge_queries(graded)\n",
    "msmarco_mrr10[2] = queries_judged.sum() / NUM_QUERIES\n",
    "msmarco_mrr10[2]"
   ]
  },
  {
   "cell_type": "markdown",
   "id": "d587aedd-6c1b-4ef1-b612-0ce5d1bf1774",
   "metadata": {},
   "source": [
    "## Weigh body*10"
   ]
  },
  {
   "cell_type": "code",
   "execution_count": 46,
   "id": "c58301cb-b72f-49b4-b8fe-227e60367db8",
   "metadata": {},
   "outputs": [
    {
     "data": {
      "text/plain": [
       "0.24909285714285714"
      ]
     },
     "execution_count": 46,
     "metadata": {},
     "output_type": "execute_result"
    }
   ],
   "source": [
    "graded = run_all(msmarco, msmarco_judgments,\n",
    "                  fields=['title_idx', 'body_idx^10'])\n",
    "\n",
    "queries_judged = judge_queries(graded)\n",
    "msmarco_mrr10[3] = queries_judged.sum() / NUM_QUERIES\n",
    "msmarco_mrr10[3]"
   ]
  },
  {
   "cell_type": "markdown",
   "id": "d974826d-945c-4986-b2fe-b27fd67122a0",
   "metadata": {},
   "source": [
    "## Weigh title*10"
   ]
  },
  {
   "cell_type": "code",
   "execution_count": 47,
   "id": "1be26647-813d-4812-aac1-c458596e6757",
   "metadata": {},
   "outputs": [
    {
     "data": {
      "text/plain": [
       "0.19806666666666667"
      ]
     },
     "execution_count": 47,
     "metadata": {},
     "output_type": "execute_result"
    }
   ],
   "source": [
    "graded = run_all(msmarco, msmarco_judgments,\n",
    "                  fields=['title_idx^10', 'body_idx'])\n",
    "\n",
    "queries_judged = judge_queries(graded)\n",
    "msmarco_mrr10[4] = queries_judged.sum() / NUM_QUERIES\n",
    "msmarco_mrr10[4]"
   ]
  },
  {
   "cell_type": "markdown",
   "id": "6b4fb5cd-3241-47de-9251-a34e3ea4df62",
   "metadata": {},
   "source": [
    "## No bias to shorter length"
   ]
  },
  {
   "cell_type": "code",
   "execution_count": 48,
   "id": "58f84165-c2be-46af-bf8a-dd062765cf2c",
   "metadata": {},
   "outputs": [
    {
     "data": {
      "text/plain": [
       "0.13158968253968253"
      ]
     },
     "execution_count": 48,
     "metadata": {},
     "output_type": "execute_result"
    }
   ],
   "source": [
    "bm25_similarity_nolen = bm25_similarity(b=0.0)\n",
    "\n",
    "graded = run_all(msmarco, msmarco_judgments,\n",
    "                 similarities = bm25_similarity_nolen,\n",
    "                 fields=['title_idx', 'body_idx'])\n",
    "\n",
    "queries_judged = judge_queries(graded)\n",
    "msmarco_mrr10[5] = queries_judged.sum() / NUM_QUERIES\n",
    "msmarco_mrr10[5]"
   ]
  },
  {
   "cell_type": "markdown",
   "id": "9a4685e1-3559-4f68-ae18-c66b883c84d9",
   "metadata": {},
   "source": [
    "## Title-only ignore len"
   ]
  },
  {
   "cell_type": "code",
   "execution_count": 49,
   "id": "e15fbe95-cf16-4cc5-9acb-7114fc2f9158",
   "metadata": {},
   "outputs": [
    {
     "data": {
      "text/plain": [
       "0.15383769841269843"
      ]
     },
     "execution_count": 49,
     "metadata": {},
     "output_type": "execute_result"
    }
   ],
   "source": [
    "bm25_similarity_nolen = bm25_similarity(b=0.0)\n",
    "\n",
    "graded = run_all(msmarco, msmarco_judgments,\n",
    "                 similarities = [bm25_similarity_nolen, default_bm25],\n",
    "                 fields=['title_idx', 'body_idx'])\n",
    "\n",
    "queries_judged = judge_queries(graded)\n",
    "msmarco_mrr10[6] = queries_judged.sum() / NUM_QUERIES\n",
    "msmarco_mrr10[6]"
   ]
  },
  {
   "cell_type": "markdown",
   "id": "c6884f97-4e34-4ce4-9831-1fdd55f3bb7f",
   "metadata": {},
   "source": [
    "## Body only ignore len"
   ]
  },
  {
   "cell_type": "code",
   "execution_count": 50,
   "id": "cbbfc624-436e-400a-8fe9-a203b32422e1",
   "metadata": {},
   "outputs": [
    {
     "data": {
      "text/plain": [
       "0.23371706349206348"
      ]
     },
     "execution_count": 50,
     "metadata": {},
     "output_type": "execute_result"
    }
   ],
   "source": [
    "bm25_similarity_nolen = bm25_similarity(b=0.0)\n",
    "\n",
    "graded = run_all(msmarco, msmarco_judgments,\n",
    "                 similarities = [default_bm25, bm25_similarity_nolen],\n",
    "                 fields=['title_idx', 'body_idx'])\n",
    "\n",
    "queries_judged = judge_queries(graded)\n",
    "msmarco_mrr10[7] = queries_judged.sum() / NUM_QUERIES\n",
    "msmarco_mrr10[7]"
   ]
  },
  {
   "cell_type": "code",
   "execution_count": null,
   "id": "dd65d99d-4813-4cdb-b9b5-7fe5963df468",
   "metadata": {},
   "outputs": [],
   "source": []
  }
 ],
 "metadata": {
  "kernelspec": {
   "display_name": "Python 3 (ipykernel)",
   "language": "python",
   "name": "python3"
  },
  "language_info": {
   "codemirror_mode": {
    "name": "ipython",
    "version": 3
   },
   "file_extension": ".py",
   "mimetype": "text/x-python",
   "name": "python",
   "nbconvert_exporter": "python",
   "pygments_lexer": "ipython3",
   "version": "3.11.7"
  }
 },
 "nbformat": 4,
 "nbformat_minor": 5
}
