{
 "cells": [
  {
   "cell_type": "code",
   "execution_count": 3,
   "id": "41e67f26-1791-4d6a-891f-d80f1e0b4232",
   "metadata": {},
   "outputs": [],
   "source": [
    "from msmarco.index import indexed"
   ]
  },
  {
   "cell_type": "code",
   "execution_count": null,
   "id": "c162ee1d-c68f-4268-a518-17cd416cf2b5",
   "metadata": {},
   "outputs": [
    {
     "name": "stderr",
     "output_type": "stream",
     "text": [
      "2024-02-17 11:56:04,031 - INFO - Indexing begins\n"
     ]
    },
    {
     "name": "stdout",
     "output_type": "stream",
     "text": [
      "Cannot find indexed file at /Users/douglas.turnbull/.msmarco/msmarco_indexed_snowball_tokenizer.pkl\n",
      "Indexing\n",
      "Indexing body\n"
     ]
    },
    {
     "name": "stderr",
     "output_type": "stream",
     "text": [
      "2024-02-17 11:56:09,589 - INFO - 0 Batch Start\n",
      "2024-02-17 11:56:09,589 - INFO - Tokenizing 100000 documents\n",
      "2024-02-17 11:56:17,212 - INFO - Tokenized 10000 (10.0%)\n"
     ]
    }
   ],
   "source": [
    "indexed = indexed()"
   ]
  },
  {
   "cell_type": "code",
   "execution_count": null,
   "id": "04b391cb-212c-47b2-949d-67f03a699cb9",
   "metadata": {},
   "outputs": [],
   "source": []
  }
 ],
 "metadata": {
  "kernelspec": {
   "display_name": "Python 3 (ipykernel)",
   "language": "python",
   "name": "python3"
  },
  "language_info": {
   "codemirror_mode": {
    "name": "ipython",
    "version": 3
   },
   "file_extension": ".py",
   "mimetype": "text/x-python",
   "name": "python",
   "nbconvert_exporter": "python",
   "pygments_lexer": "ipython3",
   "version": "3.11.7"
  }
 },
 "nbformat": 4,
 "nbformat_minor": 5
}
