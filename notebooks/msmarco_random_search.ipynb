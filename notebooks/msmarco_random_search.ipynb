{
 "cells": [
  {
   "cell_type": "code",
   "execution_count": 1,
   "id": "41e67f26-1791-4d6a-891f-d80f1e0b4232",
   "metadata": {},
   "outputs": [
    {
     "name": "stderr",
     "output_type": "stream",
     "text": [
      "/var/folders/c3/6754bm4d6cv9n0k3v04lx53h0000gq/T/ipykernel_56044/4126905919.py:2: DeprecationWarning: \n",
      "Pyarrow will become a required dependency of pandas in the next major release of pandas (pandas 3.0),\n",
      "(to allow more performant data types, such as the Arrow string type, and better interoperability with other libraries)\n",
      "but was not found to be installed on your system.\n",
      "If this would cause problems for you,\n",
      "please provide us feedback at https://github.com/pandas-dev/pandas/issues/54466\n",
      "        \n",
      "  import pandas as pd\n"
     ]
    }
   ],
   "source": [
    "import numpy as np\n",
    "import pandas as pd\n",
    "from msmarco.index import indexed\n",
    "from msmarco.evaluate import grade_results, judge_queries\n",
    "from time import perf_counter\n",
    "from searcharray.similarity import bm25_similarity, classic_similarity, default_bm25\n",
    "\n",
    "NUM_QUERIES = 10"
   ]
  },
  {
   "cell_type": "code",
   "execution_count": 2,
   "id": "c162ee1d-c68f-4268-a518-17cd416cf2b5",
   "metadata": {},
   "outputs": [],
   "source": [
    "# Will take a min or two to load, and a good hour to build an index first time\n",
    "msmarco = indexed()"
   ]
  },
  {
   "cell_type": "code",
   "execution_count": 3,
   "id": "04b391cb-212c-47b2-949d-67f03a699cb9",
   "metadata": {},
   "outputs": [
    {
     "data": {
      "text/html": [
       "<div>\n",
       "<style scoped>\n",
       "    .dataframe tbody tr th:only-of-type {\n",
       "        vertical-align: middle;\n",
       "    }\n",
       "\n",
       "    .dataframe tbody tr th {\n",
       "        vertical-align: top;\n",
       "    }\n",
       "\n",
       "    .dataframe thead th {\n",
       "        text-align: right;\n",
       "    }\n",
       "</style>\n",
       "<table border=\"1\" class=\"dataframe\">\n",
       "  <thead>\n",
       "    <tr style=\"text-align: right;\">\n",
       "      <th></th>\n",
       "      <th>title</th>\n",
       "      <th>msmarco_id</th>\n",
       "      <th>scores</th>\n",
       "      <th>query</th>\n",
       "      <th>query_id</th>\n",
       "      <th>took</th>\n",
       "      <th>rank</th>\n",
       "    </tr>\n",
       "  </thead>\n",
       "  <tbody>\n",
       "    <tr>\n",
       "      <th>1622353</th>\n",
       "      <td>Cheese &amp; Cheese Products: Cheese</td>\n",
       "      <td>D2146882</td>\n",
       "      <td>5.249580</td>\n",
       "      <td>cheese inside</td>\n",
       "      <td>None</td>\n",
       "      <td>0.034558</td>\n",
       "      <td>1</td>\n",
       "    </tr>\n",
       "    <tr>\n",
       "      <th>1409917</th>\n",
       "      <td>Inside</td>\n",
       "      <td>D3479997</td>\n",
       "      <td>4.808581</td>\n",
       "      <td>cheese inside</td>\n",
       "      <td>None</td>\n",
       "      <td>0.034558</td>\n",
       "      <td>2</td>\n",
       "    </tr>\n",
       "    <tr>\n",
       "      <th>171414</th>\n",
       "      <td>Insider</td>\n",
       "      <td>D932824</td>\n",
       "      <td>4.808581</td>\n",
       "      <td>cheese inside</td>\n",
       "      <td>None</td>\n",
       "      <td>0.034558</td>\n",
       "      <td>3</td>\n",
       "    </tr>\n",
       "    <tr>\n",
       "      <th>3021605</th>\n",
       "      <td>inside</td>\n",
       "      <td>D1820840</td>\n",
       "      <td>4.808581</td>\n",
       "      <td>cheese inside</td>\n",
       "      <td>None</td>\n",
       "      <td>0.034558</td>\n",
       "      <td>4</td>\n",
       "    </tr>\n",
       "    <tr>\n",
       "      <th>940283</th>\n",
       "      <td>inside</td>\n",
       "      <td>D1820838</td>\n",
       "      <td>4.808581</td>\n",
       "      <td>cheese inside</td>\n",
       "      <td>None</td>\n",
       "      <td>0.034558</td>\n",
       "      <td>5</td>\n",
       "    </tr>\n",
       "    <tr>\n",
       "      <th>...</th>\n",
       "      <td>...</td>\n",
       "      <td>...</td>\n",
       "      <td>...</td>\n",
       "      <td>...</td>\n",
       "      <td>...</td>\n",
       "      <td>...</td>\n",
       "      <td>...</td>\n",
       "    </tr>\n",
       "    <tr>\n",
       "      <th>1081616</th>\n",
       "      <td>Emmental Cheese</td>\n",
       "      <td>D1882782</td>\n",
       "      <td>4.248903</td>\n",
       "      <td>cheese inside</td>\n",
       "      <td>None</td>\n",
       "      <td>0.034558</td>\n",
       "      <td>96</td>\n",
       "    </tr>\n",
       "    <tr>\n",
       "      <th>48595</th>\n",
       "      <td>Packaged Cheese</td>\n",
       "      <td>D1277912</td>\n",
       "      <td>4.248903</td>\n",
       "      <td>cheese inside</td>\n",
       "      <td>None</td>\n",
       "      <td>0.034558</td>\n",
       "      <td>97</td>\n",
       "    </tr>\n",
       "    <tr>\n",
       "      <th>459143</th>\n",
       "      <td>Cheese Biscuit</td>\n",
       "      <td>D2798187</td>\n",
       "      <td>4.248903</td>\n",
       "      <td>cheese inside</td>\n",
       "      <td>None</td>\n",
       "      <td>0.034558</td>\n",
       "      <td>98</td>\n",
       "    </tr>\n",
       "    <tr>\n",
       "      <th>2472563</th>\n",
       "      <td>Cheese Triangles</td>\n",
       "      <td>D227158</td>\n",
       "      <td>4.248903</td>\n",
       "      <td>cheese inside</td>\n",
       "      <td>None</td>\n",
       "      <td>0.034558</td>\n",
       "      <td>99</td>\n",
       "    </tr>\n",
       "    <tr>\n",
       "      <th>2858102</th>\n",
       "      <td>UK Cheese</td>\n",
       "      <td>D1339683</td>\n",
       "      <td>4.248903</td>\n",
       "      <td>cheese inside</td>\n",
       "      <td>None</td>\n",
       "      <td>0.034558</td>\n",
       "      <td>100</td>\n",
       "    </tr>\n",
       "  </tbody>\n",
       "</table>\n",
       "<p>100 rows × 7 columns</p>\n",
       "</div>"
      ],
      "text/plain": [
       "                                    title msmarco_id    scores          query  \\\n",
       "1622353  Cheese & Cheese Products: Cheese   D2146882  5.249580  cheese inside   \n",
       "1409917                            Inside   D3479997  4.808581  cheese inside   \n",
       "171414                            Insider    D932824  4.808581  cheese inside   \n",
       "3021605                            inside   D1820840  4.808581  cheese inside   \n",
       "940283                             inside   D1820838  4.808581  cheese inside   \n",
       "...                                   ...        ...       ...            ...   \n",
       "1081616                   Emmental Cheese   D1882782  4.248903  cheese inside   \n",
       "48595                     Packaged Cheese   D1277912  4.248903  cheese inside   \n",
       "459143                     Cheese Biscuit   D2798187  4.248903  cheese inside   \n",
       "2472563                  Cheese Triangles    D227158  4.248903  cheese inside   \n",
       "2858102                         UK Cheese   D1339683  4.248903  cheese inside   \n",
       "\n",
       "        query_id      took  rank  \n",
       "1622353     None  0.034558     1  \n",
       "1409917     None  0.034558     2  \n",
       "171414      None  0.034558     3  \n",
       "3021605     None  0.034558     4  \n",
       "940283      None  0.034558     5  \n",
       "...          ...       ...   ...  \n",
       "1081616     None  0.034558    96  \n",
       "48595       None  0.034558    97  \n",
       "459143      None  0.034558    98  \n",
       "2472563     None  0.034558    99  \n",
       "2858102     None  0.034558   100  \n",
       "\n",
       "[100 rows x 7 columns]"
      ]
     },
     "execution_count": 3,
     "metadata": {},
     "output_type": "execute_result"
    }
   ],
   "source": [
    "def or_query_search(corpus, fields, query, query_id=None, n=10, \n",
    "                    similarities=default_bm25):\n",
    "    if not isinstance(fields, list):\n",
    "        fields = [fields]\n",
    "    if isinstance(similarities, list):\n",
    "        assert len(similarities) == len(fields)\n",
    "    if not isinstance(similarities, list):\n",
    "        similarities = [similarities] * len(fields)\n",
    "    start = perf_counter()\n",
    "    scored = np.zeros(len(corpus))\n",
    "    for field, similarity in zip(fields, similarities):\n",
    "        boost = 1.0\n",
    "        if '^' in field:\n",
    "            field, boost = field.split('^')\n",
    "            boost = float(boost)\n",
    "        tokenizer = corpus[field].array.tokenizer\n",
    "        tokens = tokenizer(query)\n",
    "        scored += (np.sum([corpus[field].array.score(token, similarity=similarity) for token in tokens], axis=0) * boost)\n",
    "    took = perf_counter() - start\n",
    "    \n",
    "    top_n_idx = np.argsort(scored)[::-1][:n]\n",
    "    scores = scored[top_n_idx]\n",
    "    top_n_idx, scores\n",
    "\n",
    "    top_n = corpus[['title', 'msmarco_id']].iloc[top_n_idx]\n",
    "    top_n['scores'] = scores\n",
    "    top_n['query'] = query\n",
    "    top_n['query_id'] = query_id\n",
    "    top_n['took'] = took\n",
    "    top_n['rank'] = np.arange(n) + 1\n",
    "    return top_n\n",
    "\n",
    "or_query_search(corpus=msmarco, fields=\"title_idx\", query=\"cheese inside\", n=100)"
   ]
  },
  {
   "cell_type": "code",
   "execution_count": 4,
   "id": "71fba45a-b565-454b-b4df-8a381e7b8dae",
   "metadata": {},
   "outputs": [],
   "source": [
    "from msmarco.evaluate import grade_results, judgments\n",
    "\n",
    "msmarco_judgments = judgments().sample(NUM_QUERIES)"
   ]
  },
  {
   "cell_type": "code",
   "execution_count": 5,
   "id": "214e322a-4ce3-4429-9d32-1f2635db952c",
   "metadata": {},
   "outputs": [],
   "source": [
    "\n",
    "def run_all(corpus, judgments, fields, similarities=default_bm25, n=10):\n",
    "    results = []\n",
    "    for idx, row in judgments.iterrows():\n",
    "        top_n = or_query_search(corpus=msmarco, fields=fields, similarities=similarities, n=n,\n",
    "                                query=row['query'], query_id=row['query_id'])\n",
    "        results.append(top_n)\n",
    "    results = pd.concat(results)\n",
    "    graded = grade_results(msmarco_judgments, results)\n",
    "    return graded"
   ]
  },
  {
   "cell_type": "markdown",
   "id": "2ec9a100-cacd-4aed-845b-264e2eb698fe",
   "metadata": {},
   "source": [
    "## Run random search\n",
    "\n",
    "Try different parameters w/ random search"
   ]
  },
  {
   "cell_type": "code",
   "execution_count": null,
   "id": "f9ec979d-677e-43dc-95fd-93615c18c661",
   "metadata": {},
   "outputs": [
    {
     "name": "stderr",
     "output_type": "stream",
     "text": [
      "/Users/douglas.turnbull/ws/msmarco/msmarco/evaluate.py:22: FutureWarning: A value is trying to be set on a copy of a DataFrame or Series through chained assignment using an inplace method.\n",
      "The behavior will change in pandas 3.0. This inplace method will never work because the intermediate object on which we are setting values always behaves as a copy.\n",
      "\n",
      "For example, when doing 'df[col].method(value, inplace=True)', try using 'df.method({col: value}, inplace=True)' or df[col] = df[col].method(value) instead, to perform the operation inplace on the original object.\n",
      "\n",
      "\n",
      "  labeled_results[\"grade\"].fillna(0, inplace=True)\n"
     ]
    },
    {
     "name": "stdout",
     "output_type": "stream",
     "text": [
      "0.3312405339494289 ['title_idx^6.545695436701294', 'body_idx^8.64142240478934'] title: b,k1: 0.2907422716201624,0.41498822130808677 body: b,k1: 0.38900339222104985,1.0629352225295006\n"
     ]
    },
    {
     "name": "stderr",
     "output_type": "stream",
     "text": [
      "/Users/douglas.turnbull/ws/msmarco/msmarco/evaluate.py:22: FutureWarning: A value is trying to be set on a copy of a DataFrame or Series through chained assignment using an inplace method.\n",
      "The behavior will change in pandas 3.0. This inplace method will never work because the intermediate object on which we are setting values always behaves as a copy.\n",
      "\n",
      "For example, when doing 'df[col].method(value, inplace=True)', try using 'df.method({col: value}, inplace=True)' or df[col] = df[col].method(value) instead, to perform the operation inplace on the original object.\n",
      "\n",
      "\n",
      "  labeled_results[\"grade\"].fillna(0, inplace=True)\n"
     ]
    },
    {
     "name": "stdout",
     "output_type": "stream",
     "text": [
      "0.3308039215686275 ['title_idx^3.6250354444295296', 'body_idx^4.055365895323505'] title: b,k1: 0.02111725329252523,1.0263423236318738 body: b,k1: 0.8991045649113643,0.37666838624665844\n"
     ]
    },
    {
     "name": "stderr",
     "output_type": "stream",
     "text": [
      "/Users/douglas.turnbull/ws/msmarco/msmarco/evaluate.py:22: FutureWarning: A value is trying to be set on a copy of a DataFrame or Series through chained assignment using an inplace method.\n",
      "The behavior will change in pandas 3.0. This inplace method will never work because the intermediate object on which we are setting values always behaves as a copy.\n",
      "\n",
      "For example, when doing 'df[col].method(value, inplace=True)', try using 'df.method({col: value}, inplace=True)' or df[col] = df[col].method(value) instead, to perform the operation inplace on the original object.\n",
      "\n",
      "\n",
      "  labeled_results[\"grade\"].fillna(0, inplace=True)\n"
     ]
    },
    {
     "name": "stdout",
     "output_type": "stream",
     "text": [
      "0.265 ['title_idx^9.159127078203202', 'body_idx^3.11490465527788'] title: b,k1: 0.20862031403855874,1.831983355457939 body: b,k1: 1.4888269249378303,1.2386003388445566\n"
     ]
    },
    {
     "name": "stderr",
     "output_type": "stream",
     "text": [
      "/Users/douglas.turnbull/ws/msmarco/msmarco/evaluate.py:22: FutureWarning: A value is trying to be set on a copy of a DataFrame or Series through chained assignment using an inplace method.\n",
      "The behavior will change in pandas 3.0. This inplace method will never work because the intermediate object on which we are setting values always behaves as a copy.\n",
      "\n",
      "For example, when doing 'df[col].method(value, inplace=True)', try using 'df.method({col: value}, inplace=True)' or df[col] = df[col].method(value) instead, to perform the operation inplace on the original object.\n",
      "\n",
      "\n",
      "  labeled_results[\"grade\"].fillna(0, inplace=True)\n"
     ]
    },
    {
     "name": "stdout",
     "output_type": "stream",
     "text": [
      "0.2414285714285714 ['title_idx^6.461397146311453', 'body_idx^0.12334225442017899'] title: b,k1: 0.5664057285626318,1.2670599338477215 body: b,k1: 1.369217042079742,1.9103201856245902\n"
     ]
    },
    {
     "name": "stderr",
     "output_type": "stream",
     "text": [
      "/Users/douglas.turnbull/ws/msmarco/msmarco/evaluate.py:22: FutureWarning: A value is trying to be set on a copy of a DataFrame or Series through chained assignment using an inplace method.\n",
      "The behavior will change in pandas 3.0. This inplace method will never work because the intermediate object on which we are setting values always behaves as a copy.\n",
      "\n",
      "For example, when doing 'df[col].method(value, inplace=True)', try using 'df.method({col: value}, inplace=True)' or df[col] = df[col].method(value) instead, to perform the operation inplace on the original object.\n",
      "\n",
      "\n",
      "  labeled_results[\"grade\"].fillna(0, inplace=True)\n"
     ]
    },
    {
     "name": "stdout",
     "output_type": "stream",
     "text": [
      "0.3299206349206349 ['title_idx^3.0352546824562987', 'body_idx^3.5686282424912283'] title: b,k1: 0.4768871976265856,0.6357311283245967 body: b,k1: 0.3243531129249948,1.2306431117128385\n"
     ]
    },
    {
     "name": "stderr",
     "output_type": "stream",
     "text": [
      "/Users/douglas.turnbull/ws/msmarco/msmarco/evaluate.py:22: FutureWarning: A value is trying to be set on a copy of a DataFrame or Series through chained assignment using an inplace method.\n",
      "The behavior will change in pandas 3.0. This inplace method will never work because the intermediate object on which we are setting values always behaves as a copy.\n",
      "\n",
      "For example, when doing 'df[col].method(value, inplace=True)', try using 'df.method({col: value}, inplace=True)' or df[col] = df[col].method(value) instead, to perform the operation inplace on the original object.\n",
      "\n",
      "\n",
      "  labeled_results[\"grade\"].fillna(0, inplace=True)\n"
     ]
    },
    {
     "name": "stdout",
     "output_type": "stream",
     "text": [
      "0.26166666666666666 ['title_idx^8.495509334570073', 'body_idx^6.590842579027783'] title: b,k1: 1.3807358359885924,1.5779977863740364 body: b,k1: 1.5519777538136232,0.8586953518703483\n"
     ]
    },
    {
     "name": "stderr",
     "output_type": "stream",
     "text": [
      "/Users/douglas.turnbull/ws/msmarco/msmarco/evaluate.py:22: FutureWarning: A value is trying to be set on a copy of a DataFrame or Series through chained assignment using an inplace method.\n",
      "The behavior will change in pandas 3.0. This inplace method will never work because the intermediate object on which we are setting values always behaves as a copy.\n",
      "\n",
      "For example, when doing 'df[col].method(value, inplace=True)', try using 'df.method({col: value}, inplace=True)' or df[col] = df[col].method(value) instead, to perform the operation inplace on the original object.\n",
      "\n",
      "\n",
      "  labeled_results[\"grade\"].fillna(0, inplace=True)\n"
     ]
    },
    {
     "name": "stdout",
     "output_type": "stream",
     "text": [
      "0.2733333333333333 ['title_idx^8.888644083657463', 'body_idx^4.475185461876551'] title: b,k1: 1.2681520376688993,1.6756479592189053 body: b,k1: 1.0426475339410193,0.43974485969027033\n"
     ]
    },
    {
     "name": "stderr",
     "output_type": "stream",
     "text": [
      "/Users/douglas.turnbull/ws/msmarco/msmarco/evaluate.py:22: FutureWarning: A value is trying to be set on a copy of a DataFrame or Series through chained assignment using an inplace method.\n",
      "The behavior will change in pandas 3.0. This inplace method will never work because the intermediate object on which we are setting values always behaves as a copy.\n",
      "\n",
      "For example, when doing 'df[col].method(value, inplace=True)', try using 'df.method({col: value}, inplace=True)' or df[col] = df[col].method(value) instead, to perform the operation inplace on the original object.\n",
      "\n",
      "\n",
      "  labeled_results[\"grade\"].fillna(0, inplace=True)\n"
     ]
    },
    {
     "name": "stdout",
     "output_type": "stream",
     "text": [
      "0.2796491228070176 ['title_idx^0.9905073372515694', 'body_idx^1.0005699103506627'] title: b,k1: 0.5557642282109592,0.19166551676771884 body: b,k1: 0.8195230727936893,1.8690899019416325\n"
     ]
    },
    {
     "name": "stderr",
     "output_type": "stream",
     "text": [
      "/Users/douglas.turnbull/ws/msmarco/msmarco/evaluate.py:22: FutureWarning: A value is trying to be set on a copy of a DataFrame or Series through chained assignment using an inplace method.\n",
      "The behavior will change in pandas 3.0. This inplace method will never work because the intermediate object on which we are setting values always behaves as a copy.\n",
      "\n",
      "For example, when doing 'df[col].method(value, inplace=True)', try using 'df.method({col: value}, inplace=True)' or df[col] = df[col].method(value) instead, to perform the operation inplace on the original object.\n",
      "\n",
      "\n",
      "  labeled_results[\"grade\"].fillna(0, inplace=True)\n"
     ]
    },
    {
     "name": "stdout",
     "output_type": "stream",
     "text": [
      "0.3297417840375587 ['title_idx^0.9903446905773594', 'body_idx^1.0548293975957024'] title: b,k1: 0.47917778217252494,0.4180000444842876 body: b,k1: 0.960720210265068,0.42182607403947425\n"
     ]
    },
    {
     "name": "stderr",
     "output_type": "stream",
     "text": [
      "/Users/douglas.turnbull/ws/msmarco/msmarco/evaluate.py:22: FutureWarning: A value is trying to be set on a copy of a DataFrame or Series through chained assignment using an inplace method.\n",
      "The behavior will change in pandas 3.0. This inplace method will never work because the intermediate object on which we are setting values always behaves as a copy.\n",
      "\n",
      "For example, when doing 'df[col].method(value, inplace=True)', try using 'df.method({col: value}, inplace=True)' or df[col] = df[col].method(value) instead, to perform the operation inplace on the original object.\n",
      "\n",
      "\n",
      "  labeled_results[\"grade\"].fillna(0, inplace=True)\n"
     ]
    },
    {
     "name": "stdout",
     "output_type": "stream",
     "text": [
      "0.3844444444444444 ['title_idx^1.0063861975871258', 'body_idx^5.724307028221296'] title: b,k1: 1.2184399017820131,0.9545558929860881 body: b,k1: 0.6381706835779399,0.9263526951989094\n"
     ]
    },
    {
     "name": "stderr",
     "output_type": "stream",
     "text": [
      "/Users/douglas.turnbull/ws/msmarco/msmarco/evaluate.py:22: FutureWarning: A value is trying to be set on a copy of a DataFrame or Series through chained assignment using an inplace method.\n",
      "The behavior will change in pandas 3.0. This inplace method will never work because the intermediate object on which we are setting values always behaves as a copy.\n",
      "\n",
      "For example, when doing 'df[col].method(value, inplace=True)', try using 'df.method({col: value}, inplace=True)' or df[col] = df[col].method(value) instead, to perform the operation inplace on the original object.\n",
      "\n",
      "\n",
      "  labeled_results[\"grade\"].fillna(0, inplace=True)\n"
     ]
    },
    {
     "name": "stdout",
     "output_type": "stream",
     "text": [
      "0.26166666666666666 ['title_idx^5.2070289243828105', 'body_idx^4.0005109868631035'] title: b,k1: 1.2963798683878591,1.5200988802210387 body: b,k1: 1.0962885935534923,0.6925259358772711\n"
     ]
    },
    {
     "name": "stderr",
     "output_type": "stream",
     "text": [
      "/Users/douglas.turnbull/ws/msmarco/msmarco/evaluate.py:22: FutureWarning: A value is trying to be set on a copy of a DataFrame or Series through chained assignment using an inplace method.\n",
      "The behavior will change in pandas 3.0. This inplace method will never work because the intermediate object on which we are setting values always behaves as a copy.\n",
      "\n",
      "For example, when doing 'df[col].method(value, inplace=True)', try using 'df.method({col: value}, inplace=True)' or df[col] = df[col].method(value) instead, to perform the operation inplace on the original object.\n",
      "\n",
      "\n",
      "  labeled_results[\"grade\"].fillna(0, inplace=True)\n"
     ]
    },
    {
     "name": "stdout",
     "output_type": "stream",
     "text": [
      "0.28997326203208557 ['title_idx^0.33344192274222473', 'body_idx^9.545577614240269'] title: b,k1: 1.4692007851674007,0.9928415518481518 body: b,k1: 1.4123686784426304,1.132514311038026\n"
     ]
    },
    {
     "name": "stderr",
     "output_type": "stream",
     "text": [
      "/Users/douglas.turnbull/ws/msmarco/msmarco/evaluate.py:22: FutureWarning: A value is trying to be set on a copy of a DataFrame or Series through chained assignment using an inplace method.\n",
      "The behavior will change in pandas 3.0. This inplace method will never work because the intermediate object on which we are setting values always behaves as a copy.\n",
      "\n",
      "For example, when doing 'df[col].method(value, inplace=True)', try using 'df.method({col: value}, inplace=True)' or df[col] = df[col].method(value) instead, to perform the operation inplace on the original object.\n",
      "\n",
      "\n",
      "  labeled_results[\"grade\"].fillna(0, inplace=True)\n"
     ]
    },
    {
     "name": "stdout",
     "output_type": "stream",
     "text": [
      "0.3309563375692408 ['title_idx^4.230766623712025', 'body_idx^5.151830853838909'] title: b,k1: 1.0642920907978082,0.9030161693827592 body: b,k1: 1.1510979591769621,1.8949740147856677\n"
     ]
    },
    {
     "name": "stderr",
     "output_type": "stream",
     "text": [
      "/Users/douglas.turnbull/ws/msmarco/msmarco/evaluate.py:22: FutureWarning: A value is trying to be set on a copy of a DataFrame or Series through chained assignment using an inplace method.\n",
      "The behavior will change in pandas 3.0. This inplace method will never work because the intermediate object on which we are setting values always behaves as a copy.\n",
      "\n",
      "For example, when doing 'df[col].method(value, inplace=True)', try using 'df.method({col: value}, inplace=True)' or df[col] = df[col].method(value) instead, to perform the operation inplace on the original object.\n",
      "\n",
      "\n",
      "  labeled_results[\"grade\"].fillna(0, inplace=True)\n"
     ]
    },
    {
     "name": "stdout",
     "output_type": "stream",
     "text": [
      "0.3066666666666667 ['title_idx^7.82647494802117', 'body_idx^2.174867239102837'] title: b,k1: 0.9376401241606667,0.2755531809089987 body: b,k1: 1.4091347759374868,0.8995320590770458\n"
     ]
    },
    {
     "name": "stderr",
     "output_type": "stream",
     "text": [
      "/Users/douglas.turnbull/ws/msmarco/msmarco/evaluate.py:22: FutureWarning: A value is trying to be set on a copy of a DataFrame or Series through chained assignment using an inplace method.\n",
      "The behavior will change in pandas 3.0. This inplace method will never work because the intermediate object on which we are setting values always behaves as a copy.\n",
      "\n",
      "For example, when doing 'df[col].method(value, inplace=True)', try using 'df.method({col: value}, inplace=True)' or df[col] = df[col].method(value) instead, to perform the operation inplace on the original object.\n",
      "\n",
      "\n",
      "  labeled_results[\"grade\"].fillna(0, inplace=True)\n"
     ]
    },
    {
     "name": "stdout",
     "output_type": "stream",
     "text": [
      "0.3961111111111111 ['title_idx^1.5478239983344921', 'body_idx^5.119361814367273'] title: b,k1: 0.287552341824707,0.5419544946188634 body: b,k1: 0.1989353524106503,0.6861877541567941\n"
     ]
    },
    {
     "name": "stderr",
     "output_type": "stream",
     "text": [
      "/Users/douglas.turnbull/ws/msmarco/msmarco/evaluate.py:22: FutureWarning: A value is trying to be set on a copy of a DataFrame or Series through chained assignment using an inplace method.\n",
      "The behavior will change in pandas 3.0. This inplace method will never work because the intermediate object on which we are setting values always behaves as a copy.\n",
      "\n",
      "For example, when doing 'df[col].method(value, inplace=True)', try using 'df.method({col: value}, inplace=True)' or df[col] = df[col].method(value) instead, to perform the operation inplace on the original object.\n",
      "\n",
      "\n",
      "  labeled_results[\"grade\"].fillna(0, inplace=True)\n"
     ]
    },
    {
     "name": "stdout",
     "output_type": "stream",
     "text": [
      "0.33104865675083595 ['title_idx^3.568644280925702', 'body_idx^4.520892424499927'] title: b,k1: 1.4779471116334169,1.4549111853404666 body: b,k1: 1.2437827999951556,1.5956921345038186\n"
     ]
    },
    {
     "name": "stderr",
     "output_type": "stream",
     "text": [
      "/Users/douglas.turnbull/ws/msmarco/msmarco/evaluate.py:22: FutureWarning: A value is trying to be set on a copy of a DataFrame or Series through chained assignment using an inplace method.\n",
      "The behavior will change in pandas 3.0. This inplace method will never work because the intermediate object on which we are setting values always behaves as a copy.\n",
      "\n",
      "For example, when doing 'df[col].method(value, inplace=True)', try using 'df.method({col: value}, inplace=True)' or df[col] = df[col].method(value) instead, to perform the operation inplace on the original object.\n",
      "\n",
      "\n",
      "  labeled_results[\"grade\"].fillna(0, inplace=True)\n"
     ]
    },
    {
     "name": "stdout",
     "output_type": "stream",
     "text": [
      "0.38445692883895133 ['title_idx^1.6104674490929605', 'body_idx^9.050547126979321'] title: b,k1: 1.7948947502665182,1.362595197978623 body: b,k1: 0.4641092966603897,1.704552045178372\n"
     ]
    },
    {
     "name": "stderr",
     "output_type": "stream",
     "text": [
      "/Users/douglas.turnbull/ws/msmarco/msmarco/evaluate.py:22: FutureWarning: A value is trying to be set on a copy of a DataFrame or Series through chained assignment using an inplace method.\n",
      "The behavior will change in pandas 3.0. This inplace method will never work because the intermediate object on which we are setting values always behaves as a copy.\n",
      "\n",
      "For example, when doing 'df[col].method(value, inplace=True)', try using 'df.method({col: value}, inplace=True)' or df[col] = df[col].method(value) instead, to perform the operation inplace on the original object.\n",
      "\n",
      "\n",
      "  labeled_results[\"grade\"].fillna(0, inplace=True)\n"
     ]
    },
    {
     "name": "stdout",
     "output_type": "stream",
     "text": [
      "0.2426190476190476 ['title_idx^8.752871413592118', 'body_idx^0.8704082714368222'] title: b,k1: 1.7930759902359432,1.0610870190858068 body: b,k1: 1.3783156359744702,1.3100319604187838\n"
     ]
    },
    {
     "name": "stderr",
     "output_type": "stream",
     "text": [
      "/Users/douglas.turnbull/ws/msmarco/msmarco/evaluate.py:22: FutureWarning: A value is trying to be set on a copy of a DataFrame or Series through chained assignment using an inplace method.\n",
      "The behavior will change in pandas 3.0. This inplace method will never work because the intermediate object on which we are setting values always behaves as a copy.\n",
      "\n",
      "For example, when doing 'df[col].method(value, inplace=True)', try using 'df.method({col: value}, inplace=True)' or df[col] = df[col].method(value) instead, to perform the operation inplace on the original object.\n",
      "\n",
      "\n",
      "  labeled_results[\"grade\"].fillna(0, inplace=True)\n"
     ]
    },
    {
     "name": "stdout",
     "output_type": "stream",
     "text": [
      "0.3919086021505377 ['title_idx^3.005197005635739', 'body_idx^4.96817514815477'] title: b,k1: 1.3411085282444646,1.325561436023122 body: b,k1: 1.4098169384867454,0.9078647534905502\n"
     ]
    },
    {
     "name": "stderr",
     "output_type": "stream",
     "text": [
      "/Users/douglas.turnbull/ws/msmarco/msmarco/evaluate.py:22: FutureWarning: A value is trying to be set on a copy of a DataFrame or Series through chained assignment using an inplace method.\n",
      "The behavior will change in pandas 3.0. This inplace method will never work because the intermediate object on which we are setting values always behaves as a copy.\n",
      "\n",
      "For example, when doing 'df[col].method(value, inplace=True)', try using 'df.method({col: value}, inplace=True)' or df[col] = df[col].method(value) instead, to perform the operation inplace on the original object.\n",
      "\n",
      "\n",
      "  labeled_results[\"grade\"].fillna(0, inplace=True)\n"
     ]
    },
    {
     "name": "stdout",
     "output_type": "stream",
     "text": [
      "0.2566666666666667 ['title_idx^7.686818018816761', 'body_idx^2.5222235677825946'] title: b,k1: 0.22952849644459006,0.9471407547809023 body: b,k1: 0.4580516430548982,1.035520912142389\n"
     ]
    },
    {
     "name": "stderr",
     "output_type": "stream",
     "text": [
      "/Users/douglas.turnbull/ws/msmarco/msmarco/evaluate.py:22: FutureWarning: A value is trying to be set on a copy of a DataFrame or Series through chained assignment using an inplace method.\n",
      "The behavior will change in pandas 3.0. This inplace method will never work because the intermediate object on which we are setting values always behaves as a copy.\n",
      "\n",
      "For example, when doing 'df[col].method(value, inplace=True)', try using 'df.method({col: value}, inplace=True)' or df[col] = df[col].method(value) instead, to perform the operation inplace on the original object.\n",
      "\n",
      "\n",
      "  labeled_results[\"grade\"].fillna(0, inplace=True)\n"
     ]
    },
    {
     "name": "stdout",
     "output_type": "stream",
     "text": [
      "0.3960752688172043 ['title_idx^2.291162439461093', 'body_idx^5.873234616999454'] title: b,k1: 0.5840333519162102,1.3557335460669167 body: b,k1: 1.6769728549678258,1.115971026253411\n"
     ]
    },
    {
     "name": "stderr",
     "output_type": "stream",
     "text": [
      "/Users/douglas.turnbull/ws/msmarco/msmarco/evaluate.py:22: FutureWarning: A value is trying to be set on a copy of a DataFrame or Series through chained assignment using an inplace method.\n",
      "The behavior will change in pandas 3.0. This inplace method will never work because the intermediate object on which we are setting values always behaves as a copy.\n",
      "\n",
      "For example, when doing 'df[col].method(value, inplace=True)', try using 'df.method({col: value}, inplace=True)' or df[col] = df[col].method(value) instead, to perform the operation inplace on the original object.\n",
      "\n",
      "\n",
      "  labeled_results[\"grade\"].fillna(0, inplace=True)\n"
     ]
    },
    {
     "name": "stdout",
     "output_type": "stream",
     "text": [
      "0.3283333333333333 ['title_idx^8.134299703287084', 'body_idx^5.3452077654295085'] title: b,k1: 1.6471313970576895,0.6245777829314032 body: b,k1: 1.7675618602793348,0.7113271703572299\n"
     ]
    },
    {
     "name": "stderr",
     "output_type": "stream",
     "text": [
      "/Users/douglas.turnbull/ws/msmarco/msmarco/evaluate.py:22: FutureWarning: A value is trying to be set on a copy of a DataFrame or Series through chained assignment using an inplace method.\n",
      "The behavior will change in pandas 3.0. This inplace method will never work because the intermediate object on which we are setting values always behaves as a copy.\n",
      "\n",
      "For example, when doing 'df[col].method(value, inplace=True)', try using 'df.method({col: value}, inplace=True)' or df[col] = df[col].method(value) instead, to perform the operation inplace on the original object.\n",
      "\n",
      "\n",
      "  labeled_results[\"grade\"].fillna(0, inplace=True)\n"
     ]
    },
    {
     "name": "stdout",
     "output_type": "stream",
     "text": [
      "0.2733333333333333 ['title_idx^8.659168059995556', 'body_idx^3.988643933348058'] title: b,k1: 1.0985869294582424,0.9675186763769307 body: b,k1: 0.06177325488556007,1.9996438089264112\n"
     ]
    },
    {
     "name": "stderr",
     "output_type": "stream",
     "text": [
      "/Users/douglas.turnbull/ws/msmarco/msmarco/evaluate.py:22: FutureWarning: A value is trying to be set on a copy of a DataFrame or Series through chained assignment using an inplace method.\n",
      "The behavior will change in pandas 3.0. This inplace method will never work because the intermediate object on which we are setting values always behaves as a copy.\n",
      "\n",
      "For example, when doing 'df[col].method(value, inplace=True)', try using 'df.method({col: value}, inplace=True)' or df[col] = df[col].method(value) instead, to perform the operation inplace on the original object.\n",
      "\n",
      "\n",
      "  labeled_results[\"grade\"].fillna(0, inplace=True)\n"
     ]
    },
    {
     "name": "stdout",
     "output_type": "stream",
     "text": [
      "0.32976190476190476 ['title_idx^2.1245603560437165', 'body_idx^2.2847697729468655'] title: b,k1: 0.7910802724500667,0.17817939167887256 body: b,k1: 1.5587090464630782,1.6729908256808996\n"
     ]
    },
    {
     "name": "stderr",
     "output_type": "stream",
     "text": [
      "/Users/douglas.turnbull/ws/msmarco/msmarco/evaluate.py:22: FutureWarning: A value is trying to be set on a copy of a DataFrame or Series through chained assignment using an inplace method.\n",
      "The behavior will change in pandas 3.0. This inplace method will never work because the intermediate object on which we are setting values always behaves as a copy.\n",
      "\n",
      "For example, when doing 'df[col].method(value, inplace=True)', try using 'df.method({col: value}, inplace=True)' or df[col] = df[col].method(value) instead, to perform the operation inplace on the original object.\n",
      "\n",
      "\n",
      "  labeled_results[\"grade\"].fillna(0, inplace=True)\n"
     ]
    },
    {
     "name": "stdout",
     "output_type": "stream",
     "text": [
      "0.32333333333333336 ['title_idx^6.078213136981907', 'body_idx^2.9807295941247514'] title: b,k1: 0.007053041459284648,1.1545827255348715 body: b,k1: 1.5842915053147564,0.6725807764617956\n"
     ]
    },
    {
     "name": "stderr",
     "output_type": "stream",
     "text": [
      "/Users/douglas.turnbull/ws/msmarco/msmarco/evaluate.py:22: FutureWarning: A value is trying to be set on a copy of a DataFrame or Series through chained assignment using an inplace method.\n",
      "The behavior will change in pandas 3.0. This inplace method will never work because the intermediate object on which we are setting values always behaves as a copy.\n",
      "\n",
      "For example, when doing 'df[col].method(value, inplace=True)', try using 'df.method({col: value}, inplace=True)' or df[col] = df[col].method(value) instead, to perform the operation inplace on the original object.\n",
      "\n",
      "\n",
      "  labeled_results[\"grade\"].fillna(0, inplace=True)\n"
     ]
    },
    {
     "name": "stdout",
     "output_type": "stream",
     "text": [
      "0.2710144927536232 ['title_idx^0.19647456498489757', 'body_idx^8.064272781845185'] title: b,k1: 1.3742163817356936,1.53168827944404 body: b,k1: 1.4581984896025608,0.32879899508690025\n"
     ]
    },
    {
     "name": "stderr",
     "output_type": "stream",
     "text": [
      "/Users/douglas.turnbull/ws/msmarco/msmarco/evaluate.py:22: FutureWarning: A value is trying to be set on a copy of a DataFrame or Series through chained assignment using an inplace method.\n",
      "The behavior will change in pandas 3.0. This inplace method will never work because the intermediate object on which we are setting values always behaves as a copy.\n",
      "\n",
      "For example, when doing 'df[col].method(value, inplace=True)', try using 'df.method({col: value}, inplace=True)' or df[col] = df[col].method(value) instead, to perform the operation inplace on the original object.\n",
      "\n",
      "\n",
      "  labeled_results[\"grade\"].fillna(0, inplace=True)\n"
     ]
    },
    {
     "name": "stdout",
     "output_type": "stream",
     "text": [
      "0.24428571428571427 ['title_idx^9.98659086956253', 'body_idx^1.1518557752767666'] title: b,k1: 0.2571478867207695,0.6864280675212729 body: b,k1: 1.6195811843355992,1.3666622143775842\n"
     ]
    },
    {
     "name": "stderr",
     "output_type": "stream",
     "text": [
      "/Users/douglas.turnbull/ws/msmarco/msmarco/evaluate.py:22: FutureWarning: A value is trying to be set on a copy of a DataFrame or Series through chained assignment using an inplace method.\n",
      "The behavior will change in pandas 3.0. This inplace method will never work because the intermediate object on which we are setting values always behaves as a copy.\n",
      "\n",
      "For example, when doing 'df[col].method(value, inplace=True)', try using 'df.method({col: value}, inplace=True)' or df[col] = df[col].method(value) instead, to perform the operation inplace on the original object.\n",
      "\n",
      "\n",
      "  labeled_results[\"grade\"].fillna(0, inplace=True)\n"
     ]
    },
    {
     "name": "stdout",
     "output_type": "stream",
     "text": [
      "0.32976190476190476 ['title_idx^1.4378287116671395', 'body_idx^1.5597670534529895'] title: b,k1: 0.21279119805571534,1.7553412618900341 body: b,k1: 1.401580263226851,1.4058575644915299\n"
     ]
    },
    {
     "name": "stderr",
     "output_type": "stream",
     "text": [
      "/Users/douglas.turnbull/ws/msmarco/msmarco/evaluate.py:22: FutureWarning: A value is trying to be set on a copy of a DataFrame or Series through chained assignment using an inplace method.\n",
      "The behavior will change in pandas 3.0. This inplace method will never work because the intermediate object on which we are setting values always behaves as a copy.\n",
      "\n",
      "For example, when doing 'df[col].method(value, inplace=True)', try using 'df.method({col: value}, inplace=True)' or df[col] = df[col].method(value) instead, to perform the operation inplace on the original object.\n",
      "\n",
      "\n",
      "  labeled_results[\"grade\"].fillna(0, inplace=True)\n"
     ]
    },
    {
     "name": "stdout",
     "output_type": "stream",
     "text": [
      "0.31500000000000006 ['title_idx^9.989333692245856', 'body_idx^4.000829069567338'] title: b,k1: 0.8325470741155248,1.4511441379870753 body: b,k1: 0.5396348003414322,1.1361986654888614\n"
     ]
    },
    {
     "name": "stderr",
     "output_type": "stream",
     "text": [
      "/Users/douglas.turnbull/ws/msmarco/msmarco/evaluate.py:22: FutureWarning: A value is trying to be set on a copy of a DataFrame or Series through chained assignment using an inplace method.\n",
      "The behavior will change in pandas 3.0. This inplace method will never work because the intermediate object on which we are setting values always behaves as a copy.\n",
      "\n",
      "For example, when doing 'df[col].method(value, inplace=True)', try using 'df.method({col: value}, inplace=True)' or df[col] = df[col].method(value) instead, to perform the operation inplace on the original object.\n",
      "\n",
      "\n",
      "  labeled_results[\"grade\"].fillna(0, inplace=True)\n"
     ]
    },
    {
     "name": "stdout",
     "output_type": "stream",
     "text": [
      "0.33117192331478046 ['title_idx^6.84337113774128', 'body_idx^8.902751289570608'] title: b,k1: 0.4927869854392104,1.8539164887034367 body: b,k1: 0.9632419947499045,0.6235842657318637\n"
     ]
    },
    {
     "name": "stderr",
     "output_type": "stream",
     "text": [
      "/Users/douglas.turnbull/ws/msmarco/msmarco/evaluate.py:22: FutureWarning: A value is trying to be set on a copy of a DataFrame or Series through chained assignment using an inplace method.\n",
      "The behavior will change in pandas 3.0. This inplace method will never work because the intermediate object on which we are setting values always behaves as a copy.\n",
      "\n",
      "For example, when doing 'df[col].method(value, inplace=True)', try using 'df.method({col: value}, inplace=True)' or df[col] = df[col].method(value) instead, to perform the operation inplace on the original object.\n",
      "\n",
      "\n",
      "  labeled_results[\"grade\"].fillna(0, inplace=True)\n"
     ]
    },
    {
     "name": "stdout",
     "output_type": "stream",
     "text": [
      "0.34442028985507245 ['title_idx^3.713191159196305', 'body_idx^6.938565012024562'] title: b,k1: 0.9991351598278555,1.5874450608459703 body: b,k1: 1.4596190341895139,1.9656215724257022\n"
     ]
    },
    {
     "name": "stderr",
     "output_type": "stream",
     "text": [
      "/Users/douglas.turnbull/ws/msmarco/msmarco/evaluate.py:22: FutureWarning: A value is trying to be set on a copy of a DataFrame or Series through chained assignment using an inplace method.\n",
      "The behavior will change in pandas 3.0. This inplace method will never work because the intermediate object on which we are setting values always behaves as a copy.\n",
      "\n",
      "For example, when doing 'df[col].method(value, inplace=True)', try using 'df.method({col: value}, inplace=True)' or df[col] = df[col].method(value) instead, to perform the operation inplace on the original object.\n",
      "\n",
      "\n",
      "  labeled_results[\"grade\"].fillna(0, inplace=True)\n"
     ]
    },
    {
     "name": "stdout",
     "output_type": "stream",
     "text": [
      "0.2783333333333333 ['title_idx^1.34195406280335', 'body_idx^1.1919754783736336'] title: b,k1: 1.542699666335884,0.5493197476979308 body: b,k1: 0.49389335238371035,0.9738357173621176\n"
     ]
    },
    {
     "name": "stderr",
     "output_type": "stream",
     "text": [
      "/Users/douglas.turnbull/ws/msmarco/msmarco/evaluate.py:22: FutureWarning: A value is trying to be set on a copy of a DataFrame or Series through chained assignment using an inplace method.\n",
      "The behavior will change in pandas 3.0. This inplace method will never work because the intermediate object on which we are setting values always behaves as a copy.\n",
      "\n",
      "For example, when doing 'df[col].method(value, inplace=True)', try using 'df.method({col: value}, inplace=True)' or df[col] = df[col].method(value) instead, to perform the operation inplace on the original object.\n",
      "\n",
      "\n",
      "  labeled_results[\"grade\"].fillna(0, inplace=True)\n"
     ]
    },
    {
     "name": "stdout",
     "output_type": "stream",
     "text": [
      "0.34057644110275687 ['title_idx^2.7121684444714313', 'body_idx^4.239039967568151'] title: b,k1: 0.41203031264406365,1.2093368302233942 body: b,k1: 0.9561167180085783,0.41575515726501455\n"
     ]
    },
    {
     "name": "stderr",
     "output_type": "stream",
     "text": [
      "/Users/douglas.turnbull/ws/msmarco/msmarco/evaluate.py:22: FutureWarning: A value is trying to be set on a copy of a DataFrame or Series through chained assignment using an inplace method.\n",
      "The behavior will change in pandas 3.0. This inplace method will never work because the intermediate object on which we are setting values always behaves as a copy.\n",
      "\n",
      "For example, when doing 'df[col].method(value, inplace=True)', try using 'df.method({col: value}, inplace=True)' or df[col] = df[col].method(value) instead, to perform the operation inplace on the original object.\n",
      "\n",
      "\n",
      "  labeled_results[\"grade\"].fillna(0, inplace=True)\n"
     ]
    },
    {
     "name": "stdout",
     "output_type": "stream",
     "text": [
      "0.31166666666666665 ['title_idx^3.160575456335357', 'body_idx^2.6635985497813044'] title: b,k1: 0.4845125325258255,0.25214519428013615 body: b,k1: 0.5696074048101696,1.4331163272484275\n"
     ]
    },
    {
     "name": "stderr",
     "output_type": "stream",
     "text": [
      "/Users/douglas.turnbull/ws/msmarco/msmarco/evaluate.py:22: FutureWarning: A value is trying to be set on a copy of a DataFrame or Series through chained assignment using an inplace method.\n",
      "The behavior will change in pandas 3.0. This inplace method will never work because the intermediate object on which we are setting values always behaves as a copy.\n",
      "\n",
      "For example, when doing 'df[col].method(value, inplace=True)', try using 'df.method({col: value}, inplace=True)' or df[col] = df[col].method(value) instead, to perform the operation inplace on the original object.\n",
      "\n",
      "\n",
      "  labeled_results[\"grade\"].fillna(0, inplace=True)\n"
     ]
    },
    {
     "name": "stdout",
     "output_type": "stream",
     "text": [
      "0.2783333333333333 ['title_idx^3.6541532642817054', 'body_idx^2.67200367441615'] title: b,k1: 0.4033397826758167,1.5394014564768799 body: b,k1: 1.8993548259502953,1.8544355315740735\n"
     ]
    },
    {
     "name": "stderr",
     "output_type": "stream",
     "text": [
      "/Users/douglas.turnbull/ws/msmarco/msmarco/evaluate.py:22: FutureWarning: A value is trying to be set on a copy of a DataFrame or Series through chained assignment using an inplace method.\n",
      "The behavior will change in pandas 3.0. This inplace method will never work because the intermediate object on which we are setting values always behaves as a copy.\n",
      "\n",
      "For example, when doing 'df[col].method(value, inplace=True)', try using 'df.method({col: value}, inplace=True)' or df[col] = df[col].method(value) instead, to perform the operation inplace on the original object.\n",
      "\n",
      "\n",
      "  labeled_results[\"grade\"].fillna(0, inplace=True)\n"
     ]
    },
    {
     "name": "stdout",
     "output_type": "stream",
     "text": [
      "0.26166666666666666 ['title_idx^6.384463419148954', 'body_idx^4.963144648006878'] title: b,k1: 1.3542730285349829,0.24179947942367205 body: b,k1: 1.7148457948521258,1.1513409553430476\n"
     ]
    },
    {
     "name": "stderr",
     "output_type": "stream",
     "text": [
      "/Users/douglas.turnbull/ws/msmarco/msmarco/evaluate.py:22: FutureWarning: A value is trying to be set on a copy of a DataFrame or Series through chained assignment using an inplace method.\n",
      "The behavior will change in pandas 3.0. This inplace method will never work because the intermediate object on which we are setting values always behaves as a copy.\n",
      "\n",
      "For example, when doing 'df[col].method(value, inplace=True)', try using 'df.method({col: value}, inplace=True)' or df[col] = df[col].method(value) instead, to perform the operation inplace on the original object.\n",
      "\n",
      "\n",
      "  labeled_results[\"grade\"].fillna(0, inplace=True)\n"
     ]
    },
    {
     "name": "stdout",
     "output_type": "stream",
     "text": [
      "0.30095238095238097 ['title_idx^6.9495743967666375', 'body_idx^0.8771542272355493'] title: b,k1: 0.5888657132151296,0.5024208484455834 body: b,k1: 0.4808394384418979,0.8314545556573628\n"
     ]
    },
    {
     "name": "stderr",
     "output_type": "stream",
     "text": [
      "/Users/douglas.turnbull/ws/msmarco/msmarco/evaluate.py:22: FutureWarning: A value is trying to be set on a copy of a DataFrame or Series through chained assignment using an inplace method.\n",
      "The behavior will change in pandas 3.0. This inplace method will never work because the intermediate object on which we are setting values always behaves as a copy.\n",
      "\n",
      "For example, when doing 'df[col].method(value, inplace=True)', try using 'df.method({col: value}, inplace=True)' or df[col] = df[col].method(value) instead, to perform the operation inplace on the original object.\n",
      "\n",
      "\n",
      "  labeled_results[\"grade\"].fillna(0, inplace=True)\n"
     ]
    },
    {
     "name": "stdout",
     "output_type": "stream",
     "text": [
      "0.3960416666666667 ['title_idx^2.848695948607105', 'body_idx^7.874002091393265'] title: b,k1: 1.8316381658982979,0.36269486747822066 body: b,k1: 0.8597138211981112,1.6072792921564394\n"
     ]
    },
    {
     "name": "stderr",
     "output_type": "stream",
     "text": [
      "/Users/douglas.turnbull/ws/msmarco/msmarco/evaluate.py:22: FutureWarning: A value is trying to be set on a copy of a DataFrame or Series through chained assignment using an inplace method.\n",
      "The behavior will change in pandas 3.0. This inplace method will never work because the intermediate object on which we are setting values always behaves as a copy.\n",
      "\n",
      "For example, when doing 'df[col].method(value, inplace=True)', try using 'df.method({col: value}, inplace=True)' or df[col] = df[col].method(value) instead, to perform the operation inplace on the original object.\n",
      "\n",
      "\n",
      "  labeled_results[\"grade\"].fillna(0, inplace=True)\n"
     ]
    },
    {
     "name": "stdout",
     "output_type": "stream",
     "text": [
      "0.265 ['title_idx^7.408240748192002', 'body_idx^2.541864408703225'] title: b,k1: 0.7787018734639568,1.922366079237534 body: b,k1: 1.1440518777425657,1.7913815572496807\n"
     ]
    },
    {
     "name": "stderr",
     "output_type": "stream",
     "text": [
      "/Users/douglas.turnbull/ws/msmarco/msmarco/evaluate.py:22: FutureWarning: A value is trying to be set on a copy of a DataFrame or Series through chained assignment using an inplace method.\n",
      "The behavior will change in pandas 3.0. This inplace method will never work because the intermediate object on which we are setting values always behaves as a copy.\n",
      "\n",
      "For example, when doing 'df[col].method(value, inplace=True)', try using 'df.method({col: value}, inplace=True)' or df[col] = df[col].method(value) instead, to perform the operation inplace on the original object.\n",
      "\n",
      "\n",
      "  labeled_results[\"grade\"].fillna(0, inplace=True)\n"
     ]
    },
    {
     "name": "stdout",
     "output_type": "stream",
     "text": [
      "0.29837662337662335 ['title_idx^0.5287615157427228', 'body_idx^8.853688924541455'] title: b,k1: 0.2913486043617899,0.17670915348869998 body: b,k1: 1.787066032886585,1.694179817289147\n"
     ]
    },
    {
     "name": "stderr",
     "output_type": "stream",
     "text": [
      "/Users/douglas.turnbull/ws/msmarco/msmarco/evaluate.py:22: FutureWarning: A value is trying to be set on a copy of a DataFrame or Series through chained assignment using an inplace method.\n",
      "The behavior will change in pandas 3.0. This inplace method will never work because the intermediate object on which we are setting values always behaves as a copy.\n",
      "\n",
      "For example, when doing 'df[col].method(value, inplace=True)', try using 'df.method({col: value}, inplace=True)' or df[col] = df[col].method(value) instead, to perform the operation inplace on the original object.\n",
      "\n",
      "\n",
      "  labeled_results[\"grade\"].fillna(0, inplace=True)\n"
     ]
    },
    {
     "name": "stdout",
     "output_type": "stream",
     "text": [
      "0.2414285714285714 ['title_idx^5.927173956657294', 'body_idx^0.47610771543951436'] title: b,k1: 0.34510349168348453,1.4272336951301534 body: b,k1: 0.8513549771320852,1.1826980710614006\n"
     ]
    },
    {
     "name": "stderr",
     "output_type": "stream",
     "text": [
      "/Users/douglas.turnbull/ws/msmarco/msmarco/evaluate.py:22: FutureWarning: A value is trying to be set on a copy of a DataFrame or Series through chained assignment using an inplace method.\n",
      "The behavior will change in pandas 3.0. This inplace method will never work because the intermediate object on which we are setting values always behaves as a copy.\n",
      "\n",
      "For example, when doing 'df[col].method(value, inplace=True)', try using 'df.method({col: value}, inplace=True)' or df[col] = df[col].method(value) instead, to perform the operation inplace on the original object.\n",
      "\n",
      "\n",
      "  labeled_results[\"grade\"].fillna(0, inplace=True)\n"
     ]
    },
    {
     "name": "stdout",
     "output_type": "stream",
     "text": [
      "0.3283333333333333 ['title_idx^6.781418046352655', 'body_idx^6.035990773122171'] title: b,k1: 1.9146779603232915,0.602931007072884 body: b,k1: 1.400489510010112,0.12206921173422937\n"
     ]
    },
    {
     "name": "stderr",
     "output_type": "stream",
     "text": [
      "/Users/douglas.turnbull/ws/msmarco/msmarco/evaluate.py:22: FutureWarning: A value is trying to be set on a copy of a DataFrame or Series through chained assignment using an inplace method.\n",
      "The behavior will change in pandas 3.0. This inplace method will never work because the intermediate object on which we are setting values always behaves as a copy.\n",
      "\n",
      "For example, when doing 'df[col].method(value, inplace=True)', try using 'df.method({col: value}, inplace=True)' or df[col] = df[col].method(value) instead, to perform the operation inplace on the original object.\n",
      "\n",
      "\n",
      "  labeled_results[\"grade\"].fillna(0, inplace=True)\n"
     ]
    },
    {
     "name": "stdout",
     "output_type": "stream",
     "text": [
      "0.2797417840375587 ['title_idx^4.965750396603495', 'body_idx^5.284426117266966'] title: b,k1: 1.0494904136973024,1.5313658705541182 body: b,k1: 0.10475064722965888,1.6259947791863634\n"
     ]
    },
    {
     "name": "stderr",
     "output_type": "stream",
     "text": [
      "/Users/douglas.turnbull/ws/msmarco/msmarco/evaluate.py:22: FutureWarning: A value is trying to be set on a copy of a DataFrame or Series through chained assignment using an inplace method.\n",
      "The behavior will change in pandas 3.0. This inplace method will never work because the intermediate object on which we are setting values always behaves as a copy.\n",
      "\n",
      "For example, when doing 'df[col].method(value, inplace=True)', try using 'df.method({col: value}, inplace=True)' or df[col] = df[col].method(value) instead, to perform the operation inplace on the original object.\n",
      "\n",
      "\n",
      "  labeled_results[\"grade\"].fillna(0, inplace=True)\n"
     ]
    },
    {
     "name": "stdout",
     "output_type": "stream",
     "text": [
      "0.3283333333333333 ['title_idx^5.477188270479658', 'body_idx^3.2334915251701224'] title: b,k1: 0.15601319097371102,1.279910501431196 body: b,k1: 0.1666303179893367,1.0232958502622114\n"
     ]
    },
    {
     "name": "stderr",
     "output_type": "stream",
     "text": [
      "/Users/douglas.turnbull/ws/msmarco/msmarco/evaluate.py:22: FutureWarning: A value is trying to be set on a copy of a DataFrame or Series through chained assignment using an inplace method.\n",
      "The behavior will change in pandas 3.0. This inplace method will never work because the intermediate object on which we are setting values always behaves as a copy.\n",
      "\n",
      "For example, when doing 'df[col].method(value, inplace=True)', try using 'df.method({col: value}, inplace=True)' or df[col] = df[col].method(value) instead, to perform the operation inplace on the original object.\n",
      "\n",
      "\n",
      "  labeled_results[\"grade\"].fillna(0, inplace=True)\n"
     ]
    },
    {
     "name": "stdout",
     "output_type": "stream",
     "text": [
      "0.3577777777777778 ['title_idx^1.6708702006397835', 'body_idx^8.237397630270149'] title: b,k1: 0.5789434269850773,1.7779618343236847 body: b,k1: 1.330466539311663,1.284355903970901\n"
     ]
    },
    {
     "name": "stderr",
     "output_type": "stream",
     "text": [
      "/Users/douglas.turnbull/ws/msmarco/msmarco/evaluate.py:22: FutureWarning: A value is trying to be set on a copy of a DataFrame or Series through chained assignment using an inplace method.\n",
      "The behavior will change in pandas 3.0. This inplace method will never work because the intermediate object on which we are setting values always behaves as a copy.\n",
      "\n",
      "For example, when doing 'df[col].method(value, inplace=True)', try using 'df.method({col: value}, inplace=True)' or df[col] = df[col].method(value) instead, to perform the operation inplace on the original object.\n",
      "\n",
      "\n",
      "  labeled_results[\"grade\"].fillna(0, inplace=True)\n"
     ]
    },
    {
     "name": "stdout",
     "output_type": "stream",
     "text": [
      "0.31166666666666665 ['title_idx^8.083353135190803', 'body_idx^6.396383846167263'] title: b,k1: 0.21945400264057713,1.6123458091438967 body: b,k1: 1.8889934923387797,0.3085020213628043\n"
     ]
    },
    {
     "name": "stderr",
     "output_type": "stream",
     "text": [
      "/Users/douglas.turnbull/ws/msmarco/msmarco/evaluate.py:22: FutureWarning: A value is trying to be set on a copy of a DataFrame or Series through chained assignment using an inplace method.\n",
      "The behavior will change in pandas 3.0. This inplace method will never work because the intermediate object on which we are setting values always behaves as a copy.\n",
      "\n",
      "For example, when doing 'df[col].method(value, inplace=True)', try using 'df.method({col: value}, inplace=True)' or df[col] = df[col].method(value) instead, to perform the operation inplace on the original object.\n",
      "\n",
      "\n",
      "  labeled_results[\"grade\"].fillna(0, inplace=True)\n"
     ]
    },
    {
     "name": "stdout",
     "output_type": "stream",
     "text": [
      "0.2783333333333333 ['title_idx^3.2070344640278714', 'body_idx^1.9381909388123486'] title: b,k1: 1.7826649245543458,1.5642772395170597 body: b,k1: 0.7075063099730408,1.7601258092641259\n"
     ]
    },
    {
     "name": "stderr",
     "output_type": "stream",
     "text": [
      "/Users/douglas.turnbull/ws/msmarco/msmarco/evaluate.py:22: FutureWarning: A value is trying to be set on a copy of a DataFrame or Series through chained assignment using an inplace method.\n",
      "The behavior will change in pandas 3.0. This inplace method will never work because the intermediate object on which we are setting values always behaves as a copy.\n",
      "\n",
      "For example, when doing 'df[col].method(value, inplace=True)', try using 'df.method({col: value}, inplace=True)' or df[col] = df[col].method(value) instead, to perform the operation inplace on the original object.\n",
      "\n",
      "\n",
      "  labeled_results[\"grade\"].fillna(0, inplace=True)\n"
     ]
    },
    {
     "name": "stdout",
     "output_type": "stream",
     "text": [
      "0.30095238095238097 ['title_idx^7.500405145151264', 'body_idx^1.1519368969519095'] title: b,k1: 0.8439904797988529,0.770929642668334 body: b,k1: 1.4038127762205004,0.7942359554198098\n"
     ]
    },
    {
     "name": "stderr",
     "output_type": "stream",
     "text": [
      "/Users/douglas.turnbull/ws/msmarco/msmarco/evaluate.py:22: FutureWarning: A value is trying to be set on a copy of a DataFrame or Series through chained assignment using an inplace method.\n",
      "The behavior will change in pandas 3.0. This inplace method will never work because the intermediate object on which we are setting values always behaves as a copy.\n",
      "\n",
      "For example, when doing 'df[col].method(value, inplace=True)', try using 'df.method({col: value}, inplace=True)' or df[col] = df[col].method(value) instead, to perform the operation inplace on the original object.\n",
      "\n",
      "\n",
      "  labeled_results[\"grade\"].fillna(0, inplace=True)\n"
     ]
    },
    {
     "name": "stdout",
     "output_type": "stream",
     "text": [
      "0.3066666666666667 ['title_idx^6.8881832339916595', 'body_idx^1.7557335999275547'] title: b,k1: 1.8474856050167974,0.30214932735672406 body: b,k1: 1.6523417462869652,0.4391274254138172\n"
     ]
    },
    {
     "name": "stderr",
     "output_type": "stream",
     "text": [
      "/Users/douglas.turnbull/ws/msmarco/msmarco/evaluate.py:22: FutureWarning: A value is trying to be set on a copy of a DataFrame or Series through chained assignment using an inplace method.\n",
      "The behavior will change in pandas 3.0. This inplace method will never work because the intermediate object on which we are setting values always behaves as a copy.\n",
      "\n",
      "For example, when doing 'df[col].method(value, inplace=True)', try using 'df.method({col: value}, inplace=True)' or df[col] = df[col].method(value) instead, to perform the operation inplace on the original object.\n",
      "\n",
      "\n",
      "  labeled_results[\"grade\"].fillna(0, inplace=True)\n"
     ]
    },
    {
     "name": "stdout",
     "output_type": "stream",
     "text": [
      "0.24337662337662333 ['title_idx^3.4311868520972855', 'body_idx^0.3945642901324986'] title: b,k1: 0.8756207398343674,0.7707753778496464 body: b,k1: 0.44041552049615507,0.25680935380967584\n"
     ]
    },
    {
     "name": "stderr",
     "output_type": "stream",
     "text": [
      "/Users/douglas.turnbull/ws/msmarco/msmarco/evaluate.py:22: FutureWarning: A value is trying to be set on a copy of a DataFrame or Series through chained assignment using an inplace method.\n",
      "The behavior will change in pandas 3.0. This inplace method will never work because the intermediate object on which we are setting values always behaves as a copy.\n",
      "\n",
      "For example, when doing 'df[col].method(value, inplace=True)', try using 'df.method({col: value}, inplace=True)' or df[col] = df[col].method(value) instead, to perform the operation inplace on the original object.\n",
      "\n",
      "\n",
      "  labeled_results[\"grade\"].fillna(0, inplace=True)\n"
     ]
    },
    {
     "name": "stdout",
     "output_type": "stream",
     "text": [
      "0.3468686868686869 ['title_idx^1.4018643136909459', 'body_idx^5.029512728413313'] title: b,k1: 0.4118680270713846,0.968916778088521 body: b,k1: 0.4350079073573858,1.989841194262223\n"
     ]
    },
    {
     "name": "stderr",
     "output_type": "stream",
     "text": [
      "/Users/douglas.turnbull/ws/msmarco/msmarco/evaluate.py:22: FutureWarning: A value is trying to be set on a copy of a DataFrame or Series through chained assignment using an inplace method.\n",
      "The behavior will change in pandas 3.0. This inplace method will never work because the intermediate object on which we are setting values always behaves as a copy.\n",
      "\n",
      "For example, when doing 'df[col].method(value, inplace=True)', try using 'df.method({col: value}, inplace=True)' or df[col] = df[col].method(value) instead, to perform the operation inplace on the original object.\n",
      "\n",
      "\n",
      "  labeled_results[\"grade\"].fillna(0, inplace=True)\n"
     ]
    },
    {
     "name": "stdout",
     "output_type": "stream",
     "text": [
      "0.3960526315789473 ['title_idx^2.465356279284813', 'body_idx^6.880238981983'] title: b,k1: 0.7912147778206451,1.2656021609761718 body: b,k1: 0.05649841153166335,0.9492092754754488\n"
     ]
    },
    {
     "name": "stderr",
     "output_type": "stream",
     "text": [
      "/Users/douglas.turnbull/ws/msmarco/msmarco/evaluate.py:22: FutureWarning: A value is trying to be set on a copy of a DataFrame or Series through chained assignment using an inplace method.\n",
      "The behavior will change in pandas 3.0. This inplace method will never work because the intermediate object on which we are setting values always behaves as a copy.\n",
      "\n",
      "For example, when doing 'df[col].method(value, inplace=True)', try using 'df.method({col: value}, inplace=True)' or df[col] = df[col].method(value) instead, to perform the operation inplace on the original object.\n",
      "\n",
      "\n",
      "  labeled_results[\"grade\"].fillna(0, inplace=True)\n"
     ]
    },
    {
     "name": "stdout",
     "output_type": "stream",
     "text": [
      "0.3283333333333333 ['title_idx^3.6364176524170375', 'body_idx^3.203603950444557'] title: b,k1: 1.2097433717694441,0.9863591008192328 body: b,k1: 1.1587032315207724,0.4917086078106273\n"
     ]
    },
    {
     "name": "stderr",
     "output_type": "stream",
     "text": [
      "/Users/douglas.turnbull/ws/msmarco/msmarco/evaluate.py:22: FutureWarning: A value is trying to be set on a copy of a DataFrame or Series through chained assignment using an inplace method.\n",
      "The behavior will change in pandas 3.0. This inplace method will never work because the intermediate object on which we are setting values always behaves as a copy.\n",
      "\n",
      "For example, when doing 'df[col].method(value, inplace=True)', try using 'df.method({col: value}, inplace=True)' or df[col] = df[col].method(value) instead, to perform the operation inplace on the original object.\n",
      "\n",
      "\n",
      "  labeled_results[\"grade\"].fillna(0, inplace=True)\n"
     ]
    },
    {
     "name": "stdout",
     "output_type": "stream",
     "text": [
      "0.3943971631205674 ['title_idx^4.144765562687124', 'body_idx^8.923180107951332'] title: b,k1: 1.4066291515468876,0.4882390246364119 body: b,k1: 1.1159382175831791,0.7251952193343224\n"
     ]
    },
    {
     "name": "stderr",
     "output_type": "stream",
     "text": [
      "/Users/douglas.turnbull/ws/msmarco/msmarco/evaluate.py:22: FutureWarning: A value is trying to be set on a copy of a DataFrame or Series through chained assignment using an inplace method.\n",
      "The behavior will change in pandas 3.0. This inplace method will never work because the intermediate object on which we are setting values always behaves as a copy.\n",
      "\n",
      "For example, when doing 'df[col].method(value, inplace=True)', try using 'df.method({col: value}, inplace=True)' or df[col] = df[col].method(value) instead, to perform the operation inplace on the original object.\n",
      "\n",
      "\n",
      "  labeled_results[\"grade\"].fillna(0, inplace=True)\n"
     ]
    },
    {
     "name": "stdout",
     "output_type": "stream",
     "text": [
      "0.28080392156862743 ['title_idx^7.30654664865847', 'body_idx^8.251597121607384'] title: b,k1: 0.0797716452734174,0.1131375687372898 body: b,k1: 0.31887976897251,1.7437844533655662\n"
     ]
    },
    {
     "name": "stderr",
     "output_type": "stream",
     "text": [
      "/Users/douglas.turnbull/ws/msmarco/msmarco/evaluate.py:22: FutureWarning: A value is trying to be set on a copy of a DataFrame or Series through chained assignment using an inplace method.\n",
      "The behavior will change in pandas 3.0. This inplace method will never work because the intermediate object on which we are setting values always behaves as a copy.\n",
      "\n",
      "For example, when doing 'df[col].method(value, inplace=True)', try using 'df.method({col: value}, inplace=True)' or df[col] = df[col].method(value) instead, to perform the operation inplace on the original object.\n",
      "\n",
      "\n",
      "  labeled_results[\"grade\"].fillna(0, inplace=True)\n"
     ]
    },
    {
     "name": "stdout",
     "output_type": "stream",
     "text": [
      "0.39608695652173914 ['title_idx^1.1421261657208948', 'body_idx^2.761240384342458'] title: b,k1: 0.7709033900585218,1.3447156976969412 body: b,k1: 0.8545284563870037,0.8876597045355028\n"
     ]
    },
    {
     "name": "stderr",
     "output_type": "stream",
     "text": [
      "/Users/douglas.turnbull/ws/msmarco/msmarco/evaluate.py:22: FutureWarning: A value is trying to be set on a copy of a DataFrame or Series through chained assignment using an inplace method.\n",
      "The behavior will change in pandas 3.0. This inplace method will never work because the intermediate object on which we are setting values always behaves as a copy.\n",
      "\n",
      "For example, when doing 'df[col].method(value, inplace=True)', try using 'df.method({col: value}, inplace=True)' or df[col] = df[col].method(value) instead, to perform the operation inplace on the original object.\n",
      "\n",
      "\n",
      "  labeled_results[\"grade\"].fillna(0, inplace=True)\n"
     ]
    },
    {
     "name": "stdout",
     "output_type": "stream",
     "text": [
      "0.39399193548387096 ['title_idx^3.6792664842167255', 'body_idx^6.376211444407654'] title: b,k1: 1.7589827262362099,0.4397311202038584 body: b,k1: 0.11161994683829102,1.531681026345998\n"
     ]
    },
    {
     "name": "stderr",
     "output_type": "stream",
     "text": [
      "/Users/douglas.turnbull/ws/msmarco/msmarco/evaluate.py:22: FutureWarning: A value is trying to be set on a copy of a DataFrame or Series through chained assignment using an inplace method.\n",
      "The behavior will change in pandas 3.0. This inplace method will never work because the intermediate object on which we are setting values always behaves as a copy.\n",
      "\n",
      "For example, when doing 'df[col].method(value, inplace=True)', try using 'df.method({col: value}, inplace=True)' or df[col] = df[col].method(value) instead, to perform the operation inplace on the original object.\n",
      "\n",
      "\n",
      "  labeled_results[\"grade\"].fillna(0, inplace=True)\n"
     ]
    },
    {
     "name": "stdout",
     "output_type": "stream",
     "text": [
      "0.3283333333333333 ['title_idx^7.5276188220717515', 'body_idx^6.683717789634089'] title: b,k1: 1.53081569174095,0.7877055374342496 body: b,k1: 0.9051660971199567,0.7755642683796474\n"
     ]
    },
    {
     "name": "stderr",
     "output_type": "stream",
     "text": [
      "/Users/douglas.turnbull/ws/msmarco/msmarco/evaluate.py:22: FutureWarning: A value is trying to be set on a copy of a DataFrame or Series through chained assignment using an inplace method.\n",
      "The behavior will change in pandas 3.0. This inplace method will never work because the intermediate object on which we are setting values always behaves as a copy.\n",
      "\n",
      "For example, when doing 'df[col].method(value, inplace=True)', try using 'df.method({col: value}, inplace=True)' or df[col] = df[col].method(value) instead, to perform the operation inplace on the original object.\n",
      "\n",
      "\n",
      "  labeled_results[\"grade\"].fillna(0, inplace=True)\n"
     ]
    },
    {
     "name": "stdout",
     "output_type": "stream",
     "text": [
      "0.39608695652173914 ['title_idx^1.8316809737590356', 'body_idx^4.727208919403358'] title: b,k1: 1.9400195779348064,0.2919903492915825 body: b,k1: 1.8346110026864373,0.4044235889309885\n"
     ]
    },
    {
     "name": "stderr",
     "output_type": "stream",
     "text": [
      "/Users/douglas.turnbull/ws/msmarco/msmarco/evaluate.py:22: FutureWarning: A value is trying to be set on a copy of a DataFrame or Series through chained assignment using an inplace method.\n",
      "The behavior will change in pandas 3.0. This inplace method will never work because the intermediate object on which we are setting values always behaves as a copy.\n",
      "\n",
      "For example, when doing 'df[col].method(value, inplace=True)', try using 'df.method({col: value}, inplace=True)' or df[col] = df[col].method(value) instead, to perform the operation inplace on the original object.\n",
      "\n",
      "\n",
      "  labeled_results[\"grade\"].fillna(0, inplace=True)\n"
     ]
    },
    {
     "name": "stdout",
     "output_type": "stream",
     "text": [
      "0.265 ['title_idx^9.970904635779297', 'body_idx^3.8810981864224137'] title: b,k1: 0.6852763638963346,1.1415978441173174 body: b,k1: 1.021917709420466,1.6744643160846815\n"
     ]
    },
    {
     "name": "stderr",
     "output_type": "stream",
     "text": [
      "/Users/douglas.turnbull/ws/msmarco/msmarco/evaluate.py:22: FutureWarning: A value is trying to be set on a copy of a DataFrame or Series through chained assignment using an inplace method.\n",
      "The behavior will change in pandas 3.0. This inplace method will never work because the intermediate object on which we are setting values always behaves as a copy.\n",
      "\n",
      "For example, when doing 'df[col].method(value, inplace=True)', try using 'df.method({col: value}, inplace=True)' or df[col] = df[col].method(value) instead, to perform the operation inplace on the original object.\n",
      "\n",
      "\n",
      "  labeled_results[\"grade\"].fillna(0, inplace=True)\n"
     ]
    },
    {
     "name": "stdout",
     "output_type": "stream",
     "text": [
      "0.2783333333333333 ['title_idx^7.411443138699758', 'body_idx^3.773174953084133'] title: b,k1: 0.5536097167116563,0.3627487801872862 body: b,k1: 1.524214684480204,0.3325167444690571\n"
     ]
    },
    {
     "name": "stderr",
     "output_type": "stream",
     "text": [
      "/Users/douglas.turnbull/ws/msmarco/msmarco/evaluate.py:22: FutureWarning: A value is trying to be set on a copy of a DataFrame or Series through chained assignment using an inplace method.\n",
      "The behavior will change in pandas 3.0. This inplace method will never work because the intermediate object on which we are setting values always behaves as a copy.\n",
      "\n",
      "For example, when doing 'df[col].method(value, inplace=True)', try using 'df.method({col: value}, inplace=True)' or df[col] = df[col].method(value) instead, to perform the operation inplace on the original object.\n",
      "\n",
      "\n",
      "  labeled_results[\"grade\"].fillna(0, inplace=True)\n"
     ]
    },
    {
     "name": "stdout",
     "output_type": "stream",
     "text": [
      "0.31166666666666665 ['title_idx^5.956406571708882', 'body_idx^5.1846678136072475'] title: b,k1: 0.7912805482865191,1.6600607663356635 body: b,k1: 0.7384768640105366,1.2943006018739922\n"
     ]
    },
    {
     "name": "stderr",
     "output_type": "stream",
     "text": [
      "/Users/douglas.turnbull/ws/msmarco/msmarco/evaluate.py:22: FutureWarning: A value is trying to be set on a copy of a DataFrame or Series through chained assignment using an inplace method.\n",
      "The behavior will change in pandas 3.0. This inplace method will never work because the intermediate object on which we are setting values always behaves as a copy.\n",
      "\n",
      "For example, when doing 'df[col].method(value, inplace=True)', try using 'df.method({col: value}, inplace=True)' or df[col] = df[col].method(value) instead, to perform the operation inplace on the original object.\n",
      "\n",
      "\n",
      "  labeled_results[\"grade\"].fillna(0, inplace=True)\n"
     ]
    },
    {
     "name": "stdout",
     "output_type": "stream",
     "text": [
      "0.2783333333333333 ['title_idx^8.732185399207935', 'body_idx^5.362382812916548'] title: b,k1: 0.17586324494208783,1.5646148607488135 body: b,k1: 1.1089354374568814,0.9530427376760912\n"
     ]
    },
    {
     "name": "stderr",
     "output_type": "stream",
     "text": [
      "/Users/douglas.turnbull/ws/msmarco/msmarco/evaluate.py:22: FutureWarning: A value is trying to be set on a copy of a DataFrame or Series through chained assignment using an inplace method.\n",
      "The behavior will change in pandas 3.0. This inplace method will never work because the intermediate object on which we are setting values always behaves as a copy.\n",
      "\n",
      "For example, when doing 'df[col].method(value, inplace=True)', try using 'df.method({col: value}, inplace=True)' or df[col] = df[col].method(value) instead, to perform the operation inplace on the original object.\n",
      "\n",
      "\n",
      "  labeled_results[\"grade\"].fillna(0, inplace=True)\n"
     ]
    },
    {
     "name": "stdout",
     "output_type": "stream",
     "text": [
      "0.265 ['title_idx^5.151557011439013', 'body_idx^1.797834449666501'] title: b,k1: 1.4471027798680551,1.5285950136491113 body: b,k1: 1.4460805718752785,1.179222472084414\n"
     ]
    },
    {
     "name": "stderr",
     "output_type": "stream",
     "text": [
      "/Users/douglas.turnbull/ws/msmarco/msmarco/evaluate.py:22: FutureWarning: A value is trying to be set on a copy of a DataFrame or Series through chained assignment using an inplace method.\n",
      "The behavior will change in pandas 3.0. This inplace method will never work because the intermediate object on which we are setting values always behaves as a copy.\n",
      "\n",
      "For example, when doing 'df[col].method(value, inplace=True)', try using 'df.method({col: value}, inplace=True)' or df[col] = df[col].method(value) instead, to perform the operation inplace on the original object.\n",
      "\n",
      "\n",
      "  labeled_results[\"grade\"].fillna(0, inplace=True)\n"
     ]
    },
    {
     "name": "stdout",
     "output_type": "stream",
     "text": [
      "0.2733333333333333 ['title_idx^6.430056105895509', 'body_idx^3.0441622612820805'] title: b,k1: 0.6946531099980577,1.9647962342339274 body: b,k1: 1.3913792222753152,1.3129022906211048\n"
     ]
    },
    {
     "name": "stderr",
     "output_type": "stream",
     "text": [
      "/Users/douglas.turnbull/ws/msmarco/msmarco/evaluate.py:22: FutureWarning: A value is trying to be set on a copy of a DataFrame or Series through chained assignment using an inplace method.\n",
      "The behavior will change in pandas 3.0. This inplace method will never work because the intermediate object on which we are setting values always behaves as a copy.\n",
      "\n",
      "For example, when doing 'df[col].method(value, inplace=True)', try using 'df.method({col: value}, inplace=True)' or df[col] = df[col].method(value) instead, to perform the operation inplace on the original object.\n",
      "\n",
      "\n",
      "  labeled_results[\"grade\"].fillna(0, inplace=True)\n"
     ]
    },
    {
     "name": "stdout",
     "output_type": "stream",
     "text": [
      "0.3283333333333333 ['title_idx^4.41446681953797', 'body_idx^2.602452930689627'] title: b,k1: 0.1267146845823348,0.6468731782984134 body: b,k1: 0.9079115421086414,1.2453766007427964\n"
     ]
    },
    {
     "name": "stderr",
     "output_type": "stream",
     "text": [
      "/Users/douglas.turnbull/ws/msmarco/msmarco/evaluate.py:22: FutureWarning: A value is trying to be set on a copy of a DataFrame or Series through chained assignment using an inplace method.\n",
      "The behavior will change in pandas 3.0. This inplace method will never work because the intermediate object on which we are setting values always behaves as a copy.\n",
      "\n",
      "For example, when doing 'df[col].method(value, inplace=True)', try using 'df.method({col: value}, inplace=True)' or df[col] = df[col].method(value) instead, to perform the operation inplace on the original object.\n",
      "\n",
      "\n",
      "  labeled_results[\"grade\"].fillna(0, inplace=True)\n"
     ]
    },
    {
     "name": "stdout",
     "output_type": "stream",
     "text": [
      "0.3297417840375587 ['title_idx^7.764152941493827', 'body_idx^8.316630127703048'] title: b,k1: 0.8811758659142455,1.1269942128797594 body: b,k1: 0.000883478494695833,0.4875557659324884\n"
     ]
    },
    {
     "name": "stderr",
     "output_type": "stream",
     "text": [
      "/Users/douglas.turnbull/ws/msmarco/msmarco/evaluate.py:22: FutureWarning: A value is trying to be set on a copy of a DataFrame or Series through chained assignment using an inplace method.\n",
      "The behavior will change in pandas 3.0. This inplace method will never work because the intermediate object on which we are setting values always behaves as a copy.\n",
      "\n",
      "For example, when doing 'df[col].method(value, inplace=True)', try using 'df.method({col: value}, inplace=True)' or df[col] = df[col].method(value) instead, to perform the operation inplace on the original object.\n",
      "\n",
      "\n",
      "  labeled_results[\"grade\"].fillna(0, inplace=True)\n"
     ]
    },
    {
     "name": "stdout",
     "output_type": "stream",
     "text": [
      "0.3977777777777778 ['title_idx^1.393676686020997', 'body_idx^6.189577102950925'] title: b,k1: 1.4377507733726655,1.023162559639219 body: b,k1: 1.7962077657321132,1.5851734518742968\n"
     ]
    },
    {
     "name": "stderr",
     "output_type": "stream",
     "text": [
      "/Users/douglas.turnbull/ws/msmarco/msmarco/evaluate.py:22: FutureWarning: A value is trying to be set on a copy of a DataFrame or Series through chained assignment using an inplace method.\n",
      "The behavior will change in pandas 3.0. This inplace method will never work because the intermediate object on which we are setting values always behaves as a copy.\n",
      "\n",
      "For example, when doing 'df[col].method(value, inplace=True)', try using 'df.method({col: value}, inplace=True)' or df[col] = df[col].method(value) instead, to perform the operation inplace on the original object.\n",
      "\n",
      "\n",
      "  labeled_results[\"grade\"].fillna(0, inplace=True)\n"
     ]
    },
    {
     "name": "stdout",
     "output_type": "stream",
     "text": [
      "0.31166666666666665 ['title_idx^0.7979080791205617', 'body_idx^9.772683349665725'] title: b,k1: 0.1130323003766287,1.5487467933750274 body: b,k1: 1.6907979004630762,0.7516745956750396\n"
     ]
    },
    {
     "name": "stderr",
     "output_type": "stream",
     "text": [
      "/Users/douglas.turnbull/ws/msmarco/msmarco/evaluate.py:22: FutureWarning: A value is trying to be set on a copy of a DataFrame or Series through chained assignment using an inplace method.\n",
      "The behavior will change in pandas 3.0. This inplace method will never work because the intermediate object on which we are setting values always behaves as a copy.\n",
      "\n",
      "For example, when doing 'df[col].method(value, inplace=True)', try using 'df.method({col: value}, inplace=True)' or df[col] = df[col].method(value) instead, to perform the operation inplace on the original object.\n",
      "\n",
      "\n",
      "  labeled_results[\"grade\"].fillna(0, inplace=True)\n"
     ]
    },
    {
     "name": "stdout",
     "output_type": "stream",
     "text": [
      "0.39274193548387093 ['title_idx^3.355061364261298', 'body_idx^5.740094804972289'] title: b,k1: 0.7442893153978967,1.4112422249534502 body: b,k1: 1.1865495288902084,1.0033872184834225\n"
     ]
    },
    {
     "name": "stderr",
     "output_type": "stream",
     "text": [
      "/Users/douglas.turnbull/ws/msmarco/msmarco/evaluate.py:22: FutureWarning: A value is trying to be set on a copy of a DataFrame or Series through chained assignment using an inplace method.\n",
      "The behavior will change in pandas 3.0. This inplace method will never work because the intermediate object on which we are setting values always behaves as a copy.\n",
      "\n",
      "For example, when doing 'df[col].method(value, inplace=True)', try using 'df.method({col: value}, inplace=True)' or df[col] = df[col].method(value) instead, to perform the operation inplace on the original object.\n",
      "\n",
      "\n",
      "  labeled_results[\"grade\"].fillna(0, inplace=True)\n"
     ]
    },
    {
     "name": "stdout",
     "output_type": "stream",
     "text": [
      "0.27938596491228074 ['title_idx^5.523642186427196', 'body_idx^5.043727776957573'] title: b,k1: 1.6172357446975518,1.5743154886312052 body: b,k1: 0.37950325928636364,0.6565607455704406\n"
     ]
    },
    {
     "name": "stderr",
     "output_type": "stream",
     "text": [
      "/Users/douglas.turnbull/ws/msmarco/msmarco/evaluate.py:22: FutureWarning: A value is trying to be set on a copy of a DataFrame or Series through chained assignment using an inplace method.\n",
      "The behavior will change in pandas 3.0. This inplace method will never work because the intermediate object on which we are setting values always behaves as a copy.\n",
      "\n",
      "For example, when doing 'df[col].method(value, inplace=True)', try using 'df.method({col: value}, inplace=True)' or df[col] = df[col].method(value) instead, to perform the operation inplace on the original object.\n",
      "\n",
      "\n",
      "  labeled_results[\"grade\"].fillna(0, inplace=True)\n"
     ]
    },
    {
     "name": "stdout",
     "output_type": "stream",
     "text": [
      "0.34608695652173915 ['title_idx^2.1175093468038075', 'body_idx^6.4241217982818375'] title: b,k1: 1.7855068181587561,0.4809303489401823 body: b,k1: 0.7794012312565826,0.6446399140978787\n"
     ]
    },
    {
     "name": "stderr",
     "output_type": "stream",
     "text": [
      "/Users/douglas.turnbull/ws/msmarco/msmarco/evaluate.py:22: FutureWarning: A value is trying to be set on a copy of a DataFrame or Series through chained assignment using an inplace method.\n",
      "The behavior will change in pandas 3.0. This inplace method will never work because the intermediate object on which we are setting values always behaves as a copy.\n",
      "\n",
      "For example, when doing 'df[col].method(value, inplace=True)', try using 'df.method({col: value}, inplace=True)' or df[col] = df[col].method(value) instead, to perform the operation inplace on the original object.\n",
      "\n",
      "\n",
      "  labeled_results[\"grade\"].fillna(0, inplace=True)\n"
     ]
    },
    {
     "name": "stdout",
     "output_type": "stream",
     "text": [
      "0.3468686868686869 ['title_idx^1.490622831385191', 'body_idx^5.6323638415957324'] title: b,k1: 0.03553352726639236,1.393999734971078 body: b,k1: 1.9055727457052984,0.30792936986520225\n"
     ]
    },
    {
     "name": "stderr",
     "output_type": "stream",
     "text": [
      "/Users/douglas.turnbull/ws/msmarco/msmarco/evaluate.py:22: FutureWarning: A value is trying to be set on a copy of a DataFrame or Series through chained assignment using an inplace method.\n",
      "The behavior will change in pandas 3.0. This inplace method will never work because the intermediate object on which we are setting values always behaves as a copy.\n",
      "\n",
      "For example, when doing 'df[col].method(value, inplace=True)', try using 'df.method({col: value}, inplace=True)' or df[col] = df[col].method(value) instead, to perform the operation inplace on the original object.\n",
      "\n",
      "\n",
      "  labeled_results[\"grade\"].fillna(0, inplace=True)\n"
     ]
    },
    {
     "name": "stdout",
     "output_type": "stream",
     "text": [
      "0.34399193548387097 ['title_idx^5.560387433112731', 'body_idx^9.86931729524027'] title: b,k1: 0.695554282252286,1.0087421037180035 body: b,k1: 1.0991639878585953,0.241151636319067\n"
     ]
    }
   ],
   "source": [
    "from random import uniform\n",
    "# 0.3164444444444445 ['title_idx^1.7072861134255923', 'body_idx^9.467854536052052'] title: b,k1: 0.9054699170098017,1.3007711184048492 body: b,k1: 1.2957539903585236,1.8407221594355443\n",
    "\n",
    "results = []\n",
    "\n",
    "for _ in range(0, 100):\n",
    "    title_boost = uniform(0, 10)\n",
    "    body_boost = uniform(0, 10)\n",
    "    b_title = uniform(0,2)\n",
    "    k1_title = uniform(0.1,2)\n",
    "    b_body = uniform(0,2)\n",
    "    k1_body = uniform(0.1,2)\n",
    "    \n",
    "    bm25_similarity_title = bm25_similarity(b=b_title,\n",
    "                                            k1=k1_title)\n",
    "    bm25_similarity_body = bm25_similarity(b=b_body,\n",
    "                                           k1=k1_body)\n",
    "    fields = [f\"title_idx^{title_boost}\", f\"body_idx^{body_boost}\"]\n",
    "    similarities = [bm25_similarity_title, bm25_similarity_body]\n",
    "\n",
    "    graded = run_all(msmarco, msmarco_judgments,\n",
    "                     fields=fields,\n",
    "                     n=100,\n",
    "                     similarities=default_bm25)\n",
    "\n",
    "    queries_judged = judge_queries(graded)\n",
    "    mrr = queries_judged.sum() / NUM_QUERIES\n",
    "    results.append({\"mrr100\": mrr, \"title_boost\": title_boost, \"body_boost\": body_boost,\n",
    "                    \"b_title\": b_title, \"k1_title\": k1_title,\n",
    "                    \"b_body\": b_body, \"k1_body\": k1_body})\n",
    "    print(mrr, fields, f\"title: b,k1: {b_title},{k1_title}\", f\"body: b,k1: {b_body},{k1_body}\")\n"
   ]
  },
  {
   "cell_type": "code",
   "execution_count": null,
   "id": "2bfadc3c-0a6b-4dcc-8d54-29d19d2a3d80",
   "metadata": {},
   "outputs": [],
   "source": [
    "graded"
   ]
  },
  {
   "cell_type": "code",
   "execution_count": null,
   "id": "77a87306-556d-4ff9-bf51-ab8e06a45e28",
   "metadata": {},
   "outputs": [],
   "source": []
  }
 ],
 "metadata": {
  "kernelspec": {
   "display_name": "Python 3 (ipykernel)",
   "language": "python",
   "name": "python3"
  },
  "language_info": {
   "codemirror_mode": {
    "name": "ipython",
    "version": 3
   },
   "file_extension": ".py",
   "mimetype": "text/x-python",
   "name": "python",
   "nbconvert_exporter": "python",
   "pygments_lexer": "ipython3",
   "version": "3.11.7"
  }
 },
 "nbformat": 4,
 "nbformat_minor": 5
}
